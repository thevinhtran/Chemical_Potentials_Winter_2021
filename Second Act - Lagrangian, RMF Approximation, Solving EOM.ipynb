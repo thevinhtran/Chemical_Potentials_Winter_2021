{
 "cells": [
  {
   "cell_type": "markdown",
   "id": "2c6b2624",
   "metadata": {},
   "source": [
    "# Goal Here is to Solve an RMF Model\n",
    "1. Specify a full Lagrangian for our system\n",
    "    - Would be good to use a function that takes in a Latex string and returns a sympy expression\n",
    "2. Write down the 'RMF' Lagrangian: express in terms of mean fields and a chemical potential term.\n",
    "    - Replace full gamma matrices with gamma 0\n",
    "    - Neglect derivative terms for mesons\n",
    "3. Calculate Equations of Motion\n",
    "4. Solve Equations of Motion for fields as a function of baryon density"
   ]
  },
  {
   "cell_type": "code",
   "execution_count": 1,
   "id": "fa6b4052",
   "metadata": {},
   "outputs": [],
   "source": [
    "import numpy as np\n",
    "import pandas as pd\n",
    "import matplotlib.pyplot as plt\n",
    "import sympy as sym\n",
    "from scipy import optimize"
   ]
  },
  {
   "cell_type": "code",
   "execution_count": 19,
   "id": "25a1aed2",
   "metadata": {},
   "outputs": [],
   "source": [
    "L, gamma, i, psi, psi_bar, partial = sym.symbols('\\mathcal{L} \\gamma^\\mu i psi \\overline{\\psi} \\partial_\\mu')\n",
    "m, mu, gamma0 = sym.symbols('m \\mu \\gamma_0')"
   ]
  },
  {
   "cell_type": "code",
   "execution_count": 21,
   "id": "187a680c",
   "metadata": {},
   "outputs": [
    {
     "data": {
      "text/latex": [
       "$\\displaystyle \\mathcal{L} = \\overline{\\psi} \\psi \\left(\\gamma^{\\mu} \\partial_{\\mu} i + \\gamma_{0} \\mu - m\\right)$"
      ],
      "text/plain": [
       "Eq(\\mathcal{L}, \\overline{\\psi}*psi*(\\gamma^\\mu*\\partial_\\mu*i + \\gamma_0*\\mu - m))"
      ]
     },
     "execution_count": 21,
     "metadata": {},
     "output_type": "execute_result"
    }
   ],
   "source": [
    "sym.Eq(L, psi_bar*(i*gamma*partial - m + mu*gamma0)*psi)"
   ]
  },
  {
   "cell_type": "code",
   "execution_count": null,
   "id": "88cc3ad9",
   "metadata": {},
   "outputs": [],
   "source": []
  }
 ],
 "metadata": {
  "kernelspec": {
   "display_name": "Python 3",
   "language": "python",
   "name": "python3"
  },
  "language_info": {
   "codemirror_mode": {
    "name": "ipython",
    "version": 3
   },
   "file_extension": ".py",
   "mimetype": "text/x-python",
   "name": "python",
   "nbconvert_exporter": "python",
   "pygments_lexer": "ipython3",
   "version": "3.8.8"
  }
 },
 "nbformat": 4,
 "nbformat_minor": 5
}
