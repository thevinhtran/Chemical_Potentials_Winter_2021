{
 "cells": [
  {
   "cell_type": "markdown",
   "id": "c3454e7c",
   "metadata": {},
   "source": [
    "# First Act: Establish Particles in Our System\n",
    "The goal of this first section is to be able to specify the particles in our system, the independent and dependent variables, write the dependent variables in terms of the independent variables using Baryon num. conservation and charge conservation, and obtain the $\\tilde{\\mu}_i$. \n",
    "\n",
    "Then, we can write down the system of equations "
   ]
  },
  {
   "cell_type": "code",
   "execution_count": 357,
   "id": "8888de31",
   "metadata": {},
   "outputs": [],
   "source": [
    "import numpy as np\n",
    "import pandas as pd\n",
    "import matplotlib.pyplot as plt\n",
    "import sympy as sym\n",
    "from scipy import optimize\n",
    "\n",
    "sym.init_printing(use_latex='mathjax')\n",
    "\n",
    "pi = np.pi\n",
    "Pi = sym.symbols('pi')"
   ]
  },
  {
   "cell_type": "markdown",
   "id": "f1dd2653",
   "metadata": {},
   "source": [
    "## Declare Baryon and Lepton Classes\n",
    "1. Declare symbolic classes \n",
    "2. Goal: write a function that takes names of all baryons (in our system) as input and declares a baryon object class for each one... and also re-writes the dependent variables in terms of independent variables. Basically does the entire set up... It might pay to simply write a dictionary pre-filled with everything."
   ]
  },
  {
   "cell_type": "code",
   "execution_count": 274,
   "id": "a248a652",
   "metadata": {},
   "outputs": [],
   "source": [
    "Neutron = [sym.symbols('n_n'), sym.symbols('n_B')*sym.symbols('x_n'), sym.symbols('x_n'), sym.symbols('mu_n'), 0.0]\n",
    "Proton = [sym.symbols('n_p'), sym.symbols('n_B')*sym.symbols('x_p'), sym.symbols('x_p'), sym.symbols('mu_p'), 1.0]\n",
    "Lambda_0 = [sym.symbols('n_Lambda_0'), sym.symbols('n_B')*sym.symbols('x_Lambda_0'), sym.symbols('x_Lambda_0'),\\\n",
    "             sym.symbols('mu_Lambda_0'),  0.0]\n",
    "Sigma_0 = [sym.symbols('n_Sigma_0'), sym.symbols('n_B')*sym.symbols('x_Sigma_0'), sym.symbols('x_Sigma_0'),\\\n",
    "           sym.symbols('mu_Sigma_0'), 0.0]\n",
    "Sigma_neg = [sym.symbols('n_Sigma_-'), sym.symbols('n_B')*sym.symbols('x_Sigma_-'), sym.symbols('x_Sigma_-'),\\\n",
    "           sym.symbols('mu_Sigma_-'), 0.0]\n",
    "Cascade_neg = [sym.symbols('n_\\Xi_-'), sym.symbols('n_B')*sym.symbols('x_\\Xi-'), sym.symbols('x_\\Xi-'),\\\n",
    "               sym.symbols('mu_\\Xi_-'), -1.0]"
   ]
  },
  {
   "cell_type": "code",
   "execution_count": 275,
   "id": "7078fffb",
   "metadata": {},
   "outputs": [],
   "source": [
    "total_baryon_list = [Neutron, Proton, Lambda_0, Sigma_0, Sigma_neg, Cascade_neg]\n",
    "total_baryon_list_name = ['Neutron', 'Proton', 'Lambda_0', 'Sigma_0', 'Sigma_neg', 'Cascade_neg']"
   ]
  },
  {
   "cell_type": "code",
   "execution_count": 276,
   "id": "df07f578",
   "metadata": {},
   "outputs": [],
   "source": [
    "A = pd.DataFrame(Neutron, index = ['Density', 'nB*Fraction' ,'Fraction', 'Chem Pot', 'Charge' ], columns = ['Neutron'])"
   ]
  },
  {
   "cell_type": "code",
   "execution_count": 277,
   "id": "40876c68",
   "metadata": {},
   "outputs": [],
   "source": [
    "for i in range(len(total_baryon_list)):\n",
    "    A[total_baryon_list_name[i]] = total_baryon_list[i]"
   ]
  },
  {
   "cell_type": "code",
   "execution_count": 278,
   "id": "c8f471fc",
   "metadata": {},
   "outputs": [
    {
     "data": {
      "text/html": [
       "<div>\n",
       "<style scoped>\n",
       "    .dataframe tbody tr th:only-of-type {\n",
       "        vertical-align: middle;\n",
       "    }\n",
       "\n",
       "    .dataframe tbody tr th {\n",
       "        vertical-align: top;\n",
       "    }\n",
       "\n",
       "    .dataframe thead th {\n",
       "        text-align: right;\n",
       "    }\n",
       "</style>\n",
       "<table border=\"1\" class=\"dataframe\">\n",
       "  <thead>\n",
       "    <tr style=\"text-align: right;\">\n",
       "      <th></th>\n",
       "      <th>Neutron</th>\n",
       "      <th>Proton</th>\n",
       "      <th>Lambda_0</th>\n",
       "      <th>Sigma_0</th>\n",
       "      <th>Sigma_neg</th>\n",
       "      <th>Cascade_neg</th>\n",
       "    </tr>\n",
       "  </thead>\n",
       "  <tbody>\n",
       "    <tr>\n",
       "      <th>Density</th>\n",
       "      <td>n_n</td>\n",
       "      <td>n_p</td>\n",
       "      <td>n_Lambda_0</td>\n",
       "      <td>n_Sigma_0</td>\n",
       "      <td>n_Sigma_-</td>\n",
       "      <td>n_\\Xi_-</td>\n",
       "    </tr>\n",
       "    <tr>\n",
       "      <th>nB*Fraction</th>\n",
       "      <td>n_B*x_n</td>\n",
       "      <td>n_B*x_p</td>\n",
       "      <td>n_B*x_Lambda_0</td>\n",
       "      <td>n_B*x_Sigma_0</td>\n",
       "      <td>n_B*x_Sigma_-</td>\n",
       "      <td>n_B*x_\\Xi-</td>\n",
       "    </tr>\n",
       "    <tr>\n",
       "      <th>Fraction</th>\n",
       "      <td>x_n</td>\n",
       "      <td>x_p</td>\n",
       "      <td>x_Lambda_0</td>\n",
       "      <td>x_Sigma_0</td>\n",
       "      <td>x_Sigma_-</td>\n",
       "      <td>x_\\Xi-</td>\n",
       "    </tr>\n",
       "    <tr>\n",
       "      <th>Chem Pot</th>\n",
       "      <td>mu_n</td>\n",
       "      <td>mu_p</td>\n",
       "      <td>mu_Lambda_0</td>\n",
       "      <td>mu_Sigma_0</td>\n",
       "      <td>mu_Sigma_-</td>\n",
       "      <td>mu_\\Xi_-</td>\n",
       "    </tr>\n",
       "    <tr>\n",
       "      <th>Charge</th>\n",
       "      <td>0.0</td>\n",
       "      <td>1.0</td>\n",
       "      <td>0.0</td>\n",
       "      <td>0.0</td>\n",
       "      <td>0.0</td>\n",
       "      <td>-1.0</td>\n",
       "    </tr>\n",
       "  </tbody>\n",
       "</table>\n",
       "</div>"
      ],
      "text/plain": [
       "             Neutron   Proton        Lambda_0        Sigma_0      Sigma_neg  \\\n",
       "Density          n_n      n_p      n_Lambda_0      n_Sigma_0      n_Sigma_-   \n",
       "nB*Fraction  n_B*x_n  n_B*x_p  n_B*x_Lambda_0  n_B*x_Sigma_0  n_B*x_Sigma_-   \n",
       "Fraction         x_n      x_p      x_Lambda_0      x_Sigma_0      x_Sigma_-   \n",
       "Chem Pot        mu_n     mu_p     mu_Lambda_0     mu_Sigma_0     mu_Sigma_-   \n",
       "Charge           0.0      1.0             0.0            0.0            0.0   \n",
       "\n",
       "            Cascade_neg  \n",
       "Density         n_\\Xi_-  \n",
       "nB*Fraction  n_B*x_\\Xi-  \n",
       "Fraction         x_\\Xi-  \n",
       "Chem Pot       mu_\\Xi_-  \n",
       "Charge             -1.0  "
      ]
     },
     "execution_count": 278,
     "metadata": {},
     "output_type": "execute_result"
    }
   ],
   "source": [
    "A"
   ]
  },
  {
   "cell_type": "code",
   "execution_count": 279,
   "id": "a13f63eb",
   "metadata": {},
   "outputs": [],
   "source": [
    "Electron = [sym.symbols('n_e'), sym.symbols('n_e')*sym.symbols('x_e'), sym.symbols('x_e'), sym.symbols('mu_e'), -1.0]\n",
    "Muon = [sym.symbols('n_\\mu'), sym.symbols('n_\\mu')*sym.symbols('x_\\mu'), sym.symbols('x_\\mu'), sym.symbols('mu_mu'), -1.0]"
   ]
  },
  {
   "cell_type": "code",
   "execution_count": 280,
   "id": "4477a574",
   "metadata": {},
   "outputs": [],
   "source": [
    "total_lepton_list = [Electron, Muon]\n",
    "total_lepton_list_name = ['Electron', 'Muon']"
   ]
  },
  {
   "cell_type": "code",
   "execution_count": 281,
   "id": "e723b4ef",
   "metadata": {},
   "outputs": [],
   "source": [
    "B = pd.DataFrame(Electron, index = ['Density', 'nB*Fraction' ,'Fraction', 'Chem Pot', 'Charge' ], columns = ['Electron'])\n",
    "for i in range(len(total_lepton_list)):\n",
    "    B[total_lepton_list_name[i]] = total_lepton_list[i]"
   ]
  },
  {
   "cell_type": "code",
   "execution_count": 348,
   "id": "393c6155",
   "metadata": {},
   "outputs": [],
   "source": [
    "class baryon_sym:\n",
    "    def __init__(self, num_dens, num_dens_frac, frac, chem_pot, charge):\n",
    "        self.num_dens = num_dens\n",
    "        self.num_dens_frac = num_dens_frac\n",
    "        self.frac = frac\n",
    "        self.chem_pot = chem_pot\n",
    "        self.charge = charge\n",
    "        \n",
    "class lepton_sym:\n",
    "    def __init__(self, num_dens, num_dens_frac, frac, chem_pot, charge):\n",
    "        self.num_dens = num_dens\n",
    "        self.num_dens_frac = num_dens_frac\n",
    "        self.frac = frac\n",
    "        self.chem_pot = chem_pot\n",
    "        self.charge = charge \n",
    "        \n",
    "class independent_variables:\n",
    "    def __init__(self, frac, tilde_chem_pot):\n",
    "        self.frac = frac\n",
    "        self.tilde_chem_pot = tilde_chem_pot\n",
    "        \n",
    "        # to be filled in later\n",
    "        self.tilde_chem_pot_val = 0.0 "
   ]
  },
  {
   "cell_type": "code",
   "execution_count": 283,
   "id": "509c0dd1",
   "metadata": {},
   "outputs": [],
   "source": [
    "def baryon(baryon_string):\n",
    "    return baryon_sym(A.loc['Density', baryon_string], A.loc['nB*Fraction', baryon_string],\\\n",
    "                             A.loc['Fraction', baryon_string], A.loc['Chem Pot', baryon_string]\\\n",
    "                              , A.loc['Charge', baryon_string])\n",
    "\n",
    "def lepton(lepton_string):\n",
    "    return lepton_sym(B.loc['Density', lepton_string], B.loc['nB*Fraction', lepton_string],\\\n",
    "                             B.loc['Fraction', lepton_string], B.loc['Chem Pot', lepton_string]\\\n",
    "                              ,B.loc['Charge', lepton_string])"
   ]
  },
  {
   "cell_type": "code",
   "execution_count": 372,
   "id": "157ab078",
   "metadata": {},
   "outputs": [],
   "source": [
    "neutron = baryon('Neutron')\n",
    "proton = baryon('Proton')\n",
    "lambda_0 = baryon('Lambda_0')\n",
    "#sigma_0 = baryon('Sigma_0')\n",
    "sigma_neg = baryon('Sigma_neg')\n",
    "cascade_neg = baryon('Cascade_neg')\n",
    "\n",
    "electron = lepton('Electron')\n",
    "muon = lepton('Muon')\n",
    "\n",
    "electron_frac = independent_variables(electron.frac, sym.symbols('mutilde_xe'))\n",
    "muon_frac = independent_variables(muon.frac, sym.symbols('mutilde_x_mu'))\n",
    "lambda_0_frac = independent_variables(lambda_0.frac, sym.symbols('mutilde_x_Lambda_0'))\n",
    "sigma_neg_frac = independent_variables(sigma_neg.frac, sym.symbols('mutilde_x_Sigma_-'))\n",
    "cascade_neg_frac = independent_variables(cascade_neg.frac, sym.symbols('mutilde_x_Xi_-'))\n",
    "\n",
    "\n",
    "baryon_list = [neutron, proton, lambda_0, sigma_neg, cascade_neg]\n",
    "lepton_list = [electron, muon]\n",
    "\n",
    "independent_var_list = [electron_frac, muon_frac, lambda_0_frac, sigma_neg_frac, cascade_neg_frac] "
   ]
  },
  {
   "cell_type": "markdown",
   "id": "775adfbf",
   "metadata": {},
   "source": [
    "## Declare Symbols: Independent and Dependent Variables"
   ]
  },
  {
   "cell_type": "code",
   "execution_count": 364,
   "id": "4cdde723",
   "metadata": {},
   "outputs": [],
   "source": [
    "def baryon_num_cons(baryon_list):\n",
    "    # takes list of baryons and returns baryon number conservation expression\n",
    "    right = 0\n",
    "    for baryon in baryon_list:\n",
    "        right = baryon.frac + right \n",
    "    return sym.Eq(1, right)"
   ]
  },
  {
   "cell_type": "code",
   "execution_count": 365,
   "id": "bd79c698",
   "metadata": {
    "scrolled": true
   },
   "outputs": [
    {
     "data": {
      "text/latex": [
       "$\\displaystyle 1 = x_{\\Lambda 0} + x_{\\Sigma -} + x_{\\Xi-} + x_{n} + x_{p}$"
      ],
      "text/plain": [
       "1 = x_Λ_0 + x_Σ_- + x_\\Xi- + xₙ + xₚ"
      ]
     },
     "execution_count": 365,
     "metadata": {},
     "output_type": "execute_result"
    }
   ],
   "source": [
    "baryon_num_cons(baryon_list)"
   ]
  },
  {
   "cell_type": "code",
   "execution_count": 366,
   "id": "c6fcf9f1",
   "metadata": {},
   "outputs": [],
   "source": [
    "def charge_cons(lepton_list, baryon_list):\n",
    "    # takes list of both leptons and baryons and returns expression for charge conservation\n",
    "    # Note: assumes that both lepton and baryon objects have a charge attribute\n",
    "    \n",
    "    positive, negative = 0, 0\n",
    "    for lepton in lepton_list:\n",
    "        if (lepton.charge > 0):\n",
    "            positive = positive + lepton.frac\n",
    "        elif (lepton.charge < 0):\n",
    "            negative = negative + lepton.frac\n",
    "    \n",
    "    for baryon in baryon_list:\n",
    "        if (baryon.charge > 0):\n",
    "            positive = positive + baryon.frac\n",
    "        elif (baryon.charge < 0):\n",
    "            negative = negative + baryon.frac\n",
    "    \n",
    "    return sym.Eq(positive, negative)"
   ]
  },
  {
   "cell_type": "code",
   "execution_count": 367,
   "id": "03bf4b59",
   "metadata": {},
   "outputs": [
    {
     "data": {
      "text/latex": [
       "$\\displaystyle x_{p} = x_{\\Xi-} + x_{\\mu} + x_{e}$"
      ],
      "text/plain": [
       "xₚ = x_\\Xi- + x_\\mu + xₑ"
      ]
     },
     "execution_count": 367,
     "metadata": {},
     "output_type": "execute_result"
    }
   ],
   "source": [
    "charge_cons(lepton_list, baryon_list)"
   ]
  },
  {
   "cell_type": "markdown",
   "id": "25b480fe",
   "metadata": {},
   "source": [
    "### Now with both Baryon number conservation and Charge conservation, we have two equations and two unknowns. Want to solve for unknowns. Just call a linsolve thingy"
   ]
  },
  {
   "cell_type": "code",
   "execution_count": 374,
   "id": "2a2f9ba3",
   "metadata": {},
   "outputs": [
    {
     "data": {
      "text/latex": [
       "$\\displaystyle \\left\\{\\left( x_{\\Xi-} + x_{\\mu} + x_{e}, \\  - x_{\\Lambda 0} - x_{\\Sigma -} - 2 x_{\\Xi-} - x_{\\mu} - x_{e} + 1\\right)\\right\\}$"
      ],
      "text/plain": [
       "{(x_\\Xi- + x_\\mu + xₑ, -x_Λ_0 - x_Σ_- - 2⋅x_\\Xi- - x_\\mu - xₑ + 1)}"
      ]
     },
     "execution_count": 374,
     "metadata": {},
     "output_type": "execute_result"
    }
   ],
   "source": [
    "SOLVE = sym.linsolve([baryon_num_cons(baryon_list), charge_cons(lepton_list, baryon_list)], (proton.frac, neutron.frac))\n",
    "SOLVE"
   ]
  },
  {
   "cell_type": "markdown",
   "id": "4a7169ba",
   "metadata": {},
   "source": [
    "### Then we update the proton and neutron frac in terms of the independent variables"
   ]
  },
  {
   "cell_type": "code",
   "execution_count": 375,
   "id": "01b76df0",
   "metadata": {},
   "outputs": [
    {
     "data": {
      "text/latex": [
       "$\\displaystyle - x_{\\Lambda 0} - x_{\\Sigma -} - 2 x_{\\Xi-} - x_{\\mu} - x_{e} + 1$"
      ],
      "text/plain": [
       "-x_Λ_0 - x_Σ_- - 2⋅x_\\Xi- - x_\\mu - xₑ + 1"
      ]
     },
     "execution_count": 375,
     "metadata": {},
     "output_type": "execute_result"
    }
   ],
   "source": [
    "proton.frac = SOLVE.args[0][0]\n",
    "neutron.frac = SOLVE.args[0][1]\n",
    "neutron.frac"
   ]
  },
  {
   "cell_type": "markdown",
   "id": "9490b93a",
   "metadata": {},
   "source": [
    "### Goal: Take independent variables and solve for dependent variables in terms of independent variables"
   ]
  },
  {
   "cell_type": "markdown",
   "id": "f89e3ad2",
   "metadata": {},
   "source": [
    "Next step is to calculate\n",
    "$$\n",
    "    \\mu_n - \\mu_{\\text{avg}} = \\mu_n - \\sum_i \\mu_i x_i \\qquad i \\in \\text{Baryons}\n",
    "$$"
   ]
  },
  {
   "cell_type": "code",
   "execution_count": 361,
   "id": "893d0be1",
   "metadata": {},
   "outputs": [],
   "source": [
    "def mu_tilde(lepton_list, baryon_list, independent_var_list):\n",
    "    # returns mu tilde values\n",
    "    \n",
    "    # first construct mu_n - mu_average\n",
    "    expression = 0 \n",
    "    for baryon in baryon_list:\n",
    "        expression = baryon.chem_pot*baryon.frac + expression\n",
    "    for lepton in lepton_list:\n",
    "        expression = lepton.chem_pot*lepton.frac + expression\n",
    "    expression = neutron.chem_pot - expression\n",
    "    display(expression)\n",
    "    \n",
    "    \n",
    "    # differentiate to simplify things and store mu tilde values in independent variable object\n",
    "    for var in independent_var_list:\n",
    "        var.tilde_chem_pot_val = expression.diff(var.frac)"
   ]
  },
  {
   "cell_type": "code",
   "execution_count": 379,
   "id": "25abf6d0",
   "metadata": {},
   "outputs": [
    {
     "data": {
      "text/latex": [
       "$\\displaystyle - \\mu_{e} + \\mu_{n} - \\mu_{p}$"
      ],
      "text/plain": [
       "-μₑ + μₙ - μₚ"
      ]
     },
     "metadata": {},
     "output_type": "display_data"
    },
    {
     "data": {
      "text/latex": [
       "$\\displaystyle - \\mu_{\\mu} + \\mu_{n} - \\mu_{p}$"
      ],
      "text/plain": [
       "-μₘᵤ + μₙ - μₚ"
      ]
     },
     "metadata": {},
     "output_type": "display_data"
    },
    {
     "data": {
      "text/latex": [
       "$\\displaystyle - \\mu_{\\Lambda 0} + \\mu_{n}$"
      ],
      "text/plain": [
       "-μ_Λ_0 + μₙ"
      ]
     },
     "metadata": {},
     "output_type": "display_data"
    },
    {
     "data": {
      "text/latex": [
       "$\\displaystyle - \\mu_{\\Sigma -} + \\mu_{n}$"
      ],
      "text/plain": [
       "-μ_Σ_- + μₙ"
      ]
     },
     "metadata": {},
     "output_type": "display_data"
    },
    {
     "data": {
      "text/latex": [
       "$\\displaystyle - \\mu_{\\Xi -} + 2 \\mu_{n} - \\mu_{p}$"
      ],
      "text/plain": [
       "-μ_\\Xi_- + 2⋅μₙ - μₚ"
      ]
     },
     "metadata": {},
     "output_type": "display_data"
    }
   ],
   "source": [
    "for var in independent_var_list:\n",
    "    display(var.tilde_chem_pot_val)"
   ]
  },
  {
   "cell_type": "markdown",
   "id": "af37925a",
   "metadata": {},
   "source": [
    "## Getting the system of linear equations down"
   ]
  },
  {
   "cell_type": "code",
   "execution_count": null,
   "id": "716cc06c",
   "metadata": {},
   "outputs": [],
   "source": []
  }
 ],
 "metadata": {
  "kernelspec": {
   "display_name": "Python 3",
   "language": "python",
   "name": "python3"
  },
  "language_info": {
   "codemirror_mode": {
    "name": "ipython",
    "version": 3
   },
   "file_extension": ".py",
   "mimetype": "text/x-python",
   "name": "python",
   "nbconvert_exporter": "python",
   "pygments_lexer": "ipython3",
   "version": "3.8.8"
  }
 },
 "nbformat": 4,
 "nbformat_minor": 5
}
