{
 "cells": [
  {
   "cell_type": "markdown",
   "id": "1bd830da",
   "metadata": {},
   "source": [
    "# Chemical Potentials\n",
    "1. In this notebook, we have arrived at a way to calculate partial derivatives of chemical potentials. This is done by first calculating the chemical potentials symbolically. After we arrive at a symbolic expression for the chemical potential, we then can substitute in numerical values. "
   ]
  },
  {
   "cell_type": "code",
   "execution_count": 302,
   "id": "31e48697",
   "metadata": {},
   "outputs": [],
   "source": [
    "import numpy as np\n",
    "import pandas as pd\n",
    "import matplotlib.pyplot as plt\n",
    "import sympy as sym\n",
    "\n",
    "pi = np.pi\n",
    "Pi = sym.symbols('pi')\n",
    "\n",
    "hc = 197.33 # MeV fm\n",
    "n_sat = 0.16 # fm-3"
   ]
  },
  {
   "cell_type": "markdown",
   "id": "3aa18745",
   "metadata": {},
   "source": [
    "## Declaring Classes\n",
    "We declare a relativistic mean field EOS class, baryon, lepton, and meson classes. These store pertinent values for each thing. For example, each particle class stores the mass, fermi momentum, effective energy, etc for the particles.\n",
    "\n",
    "We declare two types of classes: a numeric class that will store numerical values and a symbolic class that stores the symbols. From the latter we can arrive at a symbolic expression for the partial derivatives and stuff. Then, we can substitute in numerical values (in principle) to perform evaluations. "
   ]
  },
  {
   "cell_type": "markdown",
   "id": "03400e61",
   "metadata": {},
   "source": [
    "### Equation of State with Coupling Constants\n",
    "1. Allows for collection of coupling constants here. \n",
    "2. In the future could allow for generalization to other RMF-type models albiet at the moment, this would have to be the exact same model but with different coupling values"
   ]
  },
  {
   "cell_type": "code",
   "execution_count": 303,
   "id": "521e9fe9",
   "metadata": {},
   "outputs": [],
   "source": [
    "class eos:\n",
    "    def __init__(self, g_sigma_N, g_omega_N, g_rho_N, g_phi_N, b, c,\\\n",
    "                    g_sigma_LA, g_omega_LA, g_rho_LA, g_phi_LA):\n",
    "        \n",
    "        self.g_sigma_N = g_sigma_N\n",
    "        self.g_omega_N = g_omega_N\n",
    "        self.g_rho_N = g_rho_N\n",
    "        self.g_phi_N = g_phi_N\n",
    "        \n",
    "        self.g_sigma_LA = g_sigma_LA\n",
    "        self.g_omega_LA = g_omega_LA\n",
    "        self.g_rho_LA = g_rho_LA\n",
    "        self.g_phi_LA = g_phi_LA\n",
    "        \n",
    "        self.b = b\n",
    "        self.c = c"
   ]
  },
  {
   "cell_type": "code",
   "execution_count": 304,
   "id": "5bf702a6",
   "metadata": {},
   "outputs": [],
   "source": [
    "# initializing numerical eos object \n",
    "gm3 = eos(g_sigma_N = 8.784820, g_omega_N = 8.720086, g_rho_N = 8.544795, g_phi_N = 0.0, b = 0.008628, c = -0.002433,\\\n",
    "             g_sigma_LA = 5.408849, g_omega_LA = 5.813391, g_rho_LA = 0.0, g_phi_LA = -4.110688)\n",
    "\n",
    "# initializing symbolic eos object \n",
    "    # declaring symbols \n",
    "g_sigma_N, g_omega_N, g_rho_N, g_phi_N, b, c = sym.symbols('g_sigma_N, g_omega_N, g_rho_N, g_phi_N, b, c')\n",
    "g_sigma_LA, g_omega_LA, g_rho_LA, g_phi_LA = sym.symbols('g_sigma_Lambda, g_omega_Lamda, g_rho_Lambda, g_phi_Lambda')\n",
    "\n",
    "# initializing symbolic eos object\n",
    "gm3_sym = eos(g_sigma_N, g_omega_N, g_rho_N, g_phi_N, b, c,\\\n",
    "                    g_sigma_LA, g_omega_LA, g_rho_LA, g_phi_LA)"
   ]
  },
  {
   "cell_type": "markdown",
   "id": "10d6094b",
   "metadata": {},
   "source": [
    "### Equation of State: Symbolic"
   ]
  },
  {
   "cell_type": "code",
   "execution_count": 305,
   "id": "23924824",
   "metadata": {},
   "outputs": [],
   "source": [
    "# declaring symbols\n",
    "g_sigma_N, g_omega_N, g_rho_N, g_phi_N, b, c = sym.symbols('g_sigma_N, g_omega_N, g_rho_N, g_phi_N, b, c')\n",
    "g_sigma_LA, g_omega_LA, g_rho_LA, g_phi_LA = sym.symbols('g_sigma_Lambda, g_omega_Lamda, g_rho_Lambda, g_phi_Lambda')"
   ]
  },
  {
   "cell_type": "code",
   "execution_count": 306,
   "id": "578375e2",
   "metadata": {},
   "outputs": [],
   "source": [
    "# initializing symbolic eos\n",
    "gm3_sym = eos(g_sigma_N, g_omega_N, g_rho_N, g_phi_N, b, c,\\\n",
    "                g_sigma_LA, g_omega_LA, g_rho_LA, g_phi_LA)"
   ]
  },
  {
   "cell_type": "markdown",
   "id": "753a165f",
   "metadata": {},
   "source": [
    "### Sigma Field Self Interaction Term\n",
    "$$\n",
    "    U(\\sigma) = \\frac{1}{3}bm_N (g_\\sigma \\sigma)^3 + \\frac{1}{4}c(g_\\sigma \\sigma)^4\n",
    "$$"
   ]
  },
  {
   "cell_type": "code",
   "execution_count": 22,
   "id": "437c1cad",
   "metadata": {},
   "outputs": [],
   "source": [
    "U = sym.Function('U')"
   ]
  },
  {
   "cell_type": "markdown",
   "id": "af6d88c5",
   "metadata": {},
   "source": [
    "### Baryons and Leptons\n",
    "1. Declaring classes for baryons and leptons. Allows us to declare a baryon and lepton object that has the relevant data for each type of particle such as mass, charge, Fermi momentum, etc. \n",
    "2. The purpose of this is that we first arrive at an expression for the partial derivative of the chemical potentials symbolically. After that, we could then substitute in numerical values."
   ]
  },
  {
   "cell_type": "markdown",
   "id": "a6c47e8e",
   "metadata": {},
   "source": [
    "#### Declaring Numeric Classes"
   ]
  },
  {
   "cell_type": "code",
   "execution_count": 368,
   "id": "026bed73",
   "metadata": {},
   "outputs": [],
   "source": [
    "class baryon:\n",
    "    def __init__(self, mass, isospin, charge, kind, var_type, mass_eff = 0.0, num_density = 0.0,\\\n",
    "                 frac = 0.0, kf = 0.0, ef = 0.0, chem_pot = 0.0):\n",
    "    \n",
    "        # variables to be established at baryon declaration\n",
    "        self.mass = mass\n",
    "        self.isospin = isospin\n",
    "        self.charge = charge\n",
    "        self.kind = kind\n",
    "        self.var_type = var_type\n",
    "    \n",
    "        # variables to be stored later\n",
    "        self.mass_eff = mass_eff\n",
    "        self.num_density = num_density\n",
    "        self.frac = frac\n",
    "        self.kf = kf\n",
    "        self.ef = ef\n",
    "        self.chem_pot = chem_pot\n",
    "\n",
    "class lepton:\n",
    "    def __init__(self, mass, charge, num_density = 0.0, frac = 0.0, var_type = 0.0, kf = 0.0, chem_pot = 0.0):\n",
    "        self.mass = mass\n",
    "        self.charge = charge\n",
    "        self.num_density = num_density\n",
    "        self.frac = frac\n",
    "        self.var_type = var_type\n",
    "        self.kf = kf\n",
    "        self.chem_pot = chem_pot\n",
    "\n",
    "class independent_var:\n",
    "    def __init__(self, var, func, tilde_chem_pot = 0.0, tilde_chem_pot_val = 0.0, num_val = 0.0, total_deriv = 0.0):\n",
    "        self.var = var\n",
    "        self.func = func\n",
    "        \n",
    "        self.tilde_chem_pot = tilde_chem_pot\n",
    "        self.tilde_chem_pot_val = tilde_chem_pot_val\n",
    "        \n",
    "        self.num_val = num_val\n",
    "        \n",
    "        # total derivative of fraction wrt to nB\n",
    "        self.total_deriv = total_deriv"
   ]
  },
  {
   "cell_type": "code",
   "execution_count": 369,
   "id": "a0f9c87e",
   "metadata": {},
   "outputs": [],
   "source": [
    "# initializing independent variables\n",
    "nb = independent_var(sym.symbols('n_B'), sym.Function('n_B'))\n",
    "xe = independent_var(sym.symbols('x_e'), sym.Function('x_e'), sym.symbols('mu tilde_x_e'))\n",
    "xl = independent_var(sym.symbols('x_Lambda'), sym.Function('x_Lambda'), sym.symbols('mu tilde_x_Lambda'))"
   ]
  },
  {
   "cell_type": "code",
   "execution_count": 309,
   "id": "b224dc2b",
   "metadata": {},
   "outputs": [],
   "source": [
    "# electron\n",
    "electron_sym = lepton(sym.symbols('m_e'), -1, sym.symbols('n_e'), sym.symbols('x_e'), 'Independent',\\\n",
    "                      sym.symbols('k_F_e'), sym.symbols('\\mu_e'))\n",
    "electron_num = lepton(0.510, -1)\n",
    "\n",
    "# lambda hyperon\n",
    "lambda_sym = baryon(sym.symbols('m_Lambda'), 0.0, 0.0, 'Hyperon', 'Independent', sym.symbols('m_Lambda^*'),\\\n",
    "                    sym.symbols('n_Lambda'), sym.symbols('x_Lambda'), sym.symbols('k_F_Lambda'),\\\n",
    "                    sym.symbols('E^*_F_Lambda'), sym.symbols('mu_Lambda'))\n",
    "lambda_num = baryon(1116.0, 0, 0, 'Hyperon', 'Independent')\n",
    "\n",
    "# proton \n",
    "proton_sym = baryon(sym.symbols('m_p'), 1/2, 1, 'Nucleon', 'Dependent', sym.symbols('m_p^*'),\\\n",
    "                    sym.symbols('n_p'), sym.symbols('x_p'), sym.symbols('k_F_p'),\\\n",
    "                    sym.symbols('E^*_F_p'), sym.symbols('mu_p'))\n",
    "proton_num = baryon(939.0, 1/2, 1, 'Nucleon', 'Dependent')\n",
    "\n",
    "# neutron \n",
    "neutron_sym = baryon(sym.symbols('m_n'), -1/2, 0, 'Nucleon', 'Dependent', sym.symbols('m_n^*'),\\\n",
    "                    sym.symbols('n_n'), sym.symbols('x_n'), sym.symbols('k_F_n'),\\\n",
    "                    sym.symbols('E^*_F_n'), sym.symbols('mu_n'))\n",
    "neutron_num = baryon(939.0, -1/2, 0, 'Nucleon', 'Dependent')"
   ]
  },
  {
   "cell_type": "code",
   "execution_count": 310,
   "id": "a90df3fd",
   "metadata": {},
   "outputs": [],
   "source": [
    "# re-write proton and neutron number densities and fractions in terms of independent ones\n",
    "proton_sym.num_density = nb.var*(xe.var)\n",
    "proton_sym.frac = xe.var\n",
    "\n",
    "neutron_sym.num_density = nb.var*(1 - xe.var - xl.var)\n",
    "neutron_sym.frac = 1 - xe.var - xl.var"
   ]
  },
  {
   "cell_type": "markdown",
   "id": "e310bda7",
   "metadata": {},
   "source": [
    "### Mesons"
   ]
  },
  {
   "cell_type": "code",
   "execution_count": 311,
   "id": "1182581c",
   "metadata": {},
   "outputs": [],
   "source": [
    "class meson:\n",
    "    def __init__(self, mass, field = 0.0):\n",
    "        self.mass = mass # in MeV\n",
    "        self.field = 0.0 "
   ]
  },
  {
   "cell_type": "code",
   "execution_count": 312,
   "id": "9c415840",
   "metadata": {},
   "outputs": [],
   "source": [
    "# declaring the symbolic meson objects\n",
    "sigma_sym = meson(sym.symbols('m_sigma'), sym.symbols('sigma'))\n",
    "omega_sym = meson(sym.symbols('m_omega'), sym.symbols('omega'))\n",
    "rho_sym = meson(sym.symbols('m_rho'), sym.symbols('rho'))\n",
    "phi_sym = meson(sym.symbols('m_phi'), sym.symbols('phi'))\n",
    "\n",
    "# declaring the numeric meson objects\n",
    "sigma_num = meson(550.0)\n",
    "omega_num = meson(783.0)\n",
    "rho_num = meson(770.0)\n",
    "phi_num = meson(1020.0)"
   ]
  },
  {
   "cell_type": "markdown",
   "id": "999ccd11",
   "metadata": {},
   "source": [
    "### Establishing Helpful Lists\n",
    "1. Below we have two lists: a list of the independent variables and a list of the baryons. We sum over these in the code below."
   ]
  },
  {
   "cell_type": "code",
   "execution_count": 370,
   "id": "69bfbcb6",
   "metadata": {},
   "outputs": [],
   "source": [
    "# Making a list of the independent variables\n",
    "independent_variables = [nb, xe, xl]\n",
    "\n",
    "# List of symbolic and numeric baryon objects\n",
    "baryon_list = [proton_sym, neutron_sym, lambda_sym]\n",
    "baryon_num_list = [proton_num, neutron_num, lambda_num]\n",
    "\n",
    "# List of symbolic and numeric lepton objects (just electrons for now)\n",
    "lepton_list = [electron_sym]\n",
    "lepton_num_list = [electron_num]"
   ]
  },
  {
   "cell_type": "markdown",
   "id": "5ec51d41",
   "metadata": {},
   "source": [
    "## Lepton/Electron Chemical Potential Derivative\n",
    "$$\n",
    "    \\mu_e = \\sqrt{k_{F_e}^2 + m_e^2} \\qquad k_{F_e} = (3\\pi^2 n_e)^{1/3} \\qquad \n",
    "       n_e = n_B x_e\n",
    "$$"
   ]
  },
  {
   "cell_type": "code",
   "execution_count": 242,
   "id": "811639cf",
   "metadata": {},
   "outputs": [],
   "source": [
    "def chem_pot_electron(x_j):\n",
    "    # calculates derivative of electron chemical potential wrt variable x_j\n",
    "    mu_e = sym.sqrt(electron_sym.kf**2 + electron_sym.mass**2)\n",
    "    mu_e = mu_e.subs(electron_sym.kf, (3*Pi**2*sym.symbols('n_B')*electron_sym.frac)**(1/3))\n",
    "    return mu_e.diff(x_j)"
   ]
  },
  {
   "cell_type": "code",
   "execution_count": 333,
   "id": "08341853",
   "metadata": {},
   "outputs": [
    {
     "data": {
      "text/latex": [
       "$\\displaystyle \\frac{0.480749856769136 \\left(n_{B} \\pi^{2} x_{e}\\right)^{0.666666666666667}}{n_{B} \\sqrt{0.480749856769136 m_{e}^{2} + \\left(n_{B} \\pi^{2} x_{e}\\right)^{0.666666666666667}}}$"
      ],
      "text/plain": [
       "0.480749856769136*(n_B*pi**2*x_e)**0.666666666666667/(n_B*sqrt(0.480749856769136*m_e**2 + (n_B*pi**2*x_e)**0.666666666666667))"
      ]
     },
     "execution_count": 333,
     "metadata": {},
     "output_type": "execute_result"
    }
   ],
   "source": [
    "chem_pot_electron(nb.var)"
   ]
  },
  {
   "cell_type": "markdown",
   "id": "12eb933a",
   "metadata": {},
   "source": [
    "# Working towards Baryon Chemical Potential Partial Derivatives\n",
    "Ultimately, we want to write down a function that takes a baryon $i$ and an independent variable $x_j$ and returns the partial derivative of the chemical potential of baryon $i$ with respect to $x_j$. That is,\n",
    "$$\n",
    "    \\frac{\\partial \\mu_i}{\\partial x_j} = \\frac{\\partial \\mu_i'}{\\partial x_j} + \\frac{\\partial \\mu_i^R}{\\partial x_j}\n",
    "$$\n",
    "where \n",
    "$$\n",
    "    \\frac{\\partial \\mu_i'}{\\partial x_j} = \\frac{\\partial }{\\partial x_j}\\sqrt{k_{F_i}^2 + {m_i^*}^2}\n",
    "    \\qquad \n",
    "    \\frac{\\partial \\mu_i^R}{\\partial x_j} = \\sum_k g_{\\text{Meson}}\\frac{\\partial }{\\partial x_j}\\text{Meson}_j\n",
    "$$\n",
    "This task is broken down as follows:\n",
    "- Calculate $\\partial \\mu_i'/\\partial x_j$ and $\\partial \\mu_i^R/\\partial x_j$\n",
    "    - For the second task, we need to calculate partial derivatives of meson fields and then multiply by relevant coupling constants \n",
    "    - For the first task, then need to find the partial derivative of the effective energy. This then amounts to finding the partial derivative of the sigma fields. \n",
    "    \n",
    "With this in mind, let us start from the bottom and work ourselves back up."
   ]
  },
  {
   "cell_type": "markdown",
   "id": "65cfa482",
   "metadata": {},
   "source": [
    "## Working Towards $\\partial \\mu^R_i/\\partial x_j$"
   ]
  },
  {
   "cell_type": "markdown",
   "id": "38fd8122",
   "metadata": {},
   "source": [
    "#### Calculating Partial Derivatives of Meson Fields with respect to independent variable $x_j$\n",
    "1. Goal here: write a function that takes as input independent variable $x_j$ and returns $\\partial \\omega_0/\\partial x_j$ and more.\n",
    "2. At the moment, we have three functions. But in principle, they are all quite similar. Could try to generalize this by associating to each meson class object an 'Equation of state' function as well as their relevant coupling constants. Would allow us to condense these three equations into one single equation."
   ]
  },
  {
   "cell_type": "code",
   "execution_count": 56,
   "id": "b94d02aa",
   "metadata": {},
   "outputs": [],
   "source": [
    "def partial_omega(x_j):\n",
    "    # returns domega/dxj\n",
    "    omega_sym.field = 0\n",
    "    \n",
    "    # equation of motion \n",
    "    for i in range(len(baryon_list)):\n",
    "        if(baryon_list[i].kind == 'Nucleon'):\n",
    "            omega_sym.field = gm3_sym.g_omega_N*nb.var*baryon_list[i].frac + omega_sym.field\n",
    "        elif(baryon_list[i].kind == 'Hyperon'):\n",
    "            omega_sym.field = gm3_sym.g_omega_LA*nb.var*baryon_list[i].frac + omega_sym.field\n",
    "        \n",
    "    omega_sym.field = 1/omega_sym.mass**2*omega_sym.field \n",
    "\n",
    "    # calculate partial derivative \n",
    "    return sym.simplify(omega_sym.field.diff(x_j))"
   ]
  },
  {
   "cell_type": "code",
   "execution_count": 60,
   "id": "0510f850",
   "metadata": {},
   "outputs": [],
   "source": [
    "def partial_rho(x_j):\n",
    "    # returns drho/dxj\n",
    "    rho_sym.field = 0 \n",
    "    \n",
    "    # equation of motion\n",
    "    # in the future would be good to call the equation of motion directly here... from Lagrangian\n",
    "    for i in range(len(baryon_list)):\n",
    "        if(baryon_list[i].kind == 'Nucleon'):\n",
    "            rho_sym.field = gm3_sym.g_rho_N*baryon_list[i].frac*nb.var*baryon_list[i].isospin + rho_sym.field\n",
    "        elif(baryon_list[i].kind == 'Hyperon'):\n",
    "            rho_sym.field = gm3_sym.g_rho_LA*baryon_list[i].frac*nb.var*baryon_list[i].isospin + rho_sym.field\n",
    "    \n",
    "    rho_sym.field = 1/rho_sym.mass**2*rho_sym.field\n",
    "    \n",
    "    # calculate partial derivative\n",
    "    return sym.simplify(rho_sym.field.diff(x_j))"
   ]
  },
  {
   "cell_type": "code",
   "execution_count": 62,
   "id": "f5bb2fa6",
   "metadata": {},
   "outputs": [],
   "source": [
    "def partial_phi(x_j):\n",
    "    # returns dmeson/dxj\n",
    "    phi_sym.field = 0\n",
    "    \n",
    "    # equation of motion \n",
    "    for i in range(len(baryon_list)):\n",
    "        if(baryon_list[i].kind == 'Nucleon'):\n",
    "            phi_sym.field = gm3_sym.g_phi_N*baryon_list[i].frac*nb.var + phi_sym.field\n",
    "        elif(baryon_list[i].kind == 'Hyperon'):\n",
    "            phi_sym.field = gm3_sym.g_phi_LA*baryon_list[i].frac*nb.var + phi_sym.field\n",
    "        \n",
    "    phi_sym.field = 1/phi_sym.mass**2*phi_sym.field \n",
    "    \n",
    "    # calculate partial derivative \n",
    "    return sym.simplify(phi_sym.field.diff(x_j))"
   ]
  },
  {
   "cell_type": "markdown",
   "id": "09d89e8a",
   "metadata": {},
   "source": [
    "### Arriving at expression for Partial Derivative of $\\mu_i^R$\n",
    "Where \n",
    "$$\n",
    "    \\mu_i^R = g_{\\omega i}\\omega + g_{\\phi i}\\phi + I_{3B}g_{\\rho i}\\rho\n",
    "$$"
   ]
  },
  {
   "cell_type": "code",
   "execution_count": 63,
   "id": "0b9f9238",
   "metadata": {},
   "outputs": [],
   "source": [
    "def partial_mu_R(baryon_sym, x_j):\n",
    "    # returns dmu_i^R/dx_j\n",
    "    \n",
    "    if(baryon_sym.kind == 'Nucleon'):\n",
    "        return gm3_sym.g_omega_N*partial_omega(x_j) + gm3_sym.g_phi_N*partial_phi(x_j)\\\n",
    "            + baryon_sym.isospin*gm3_sym.g_rho_N*partial_rho(x_j)\n",
    "    \n",
    "    elif(baryon_sym.kind == 'Hyperon'):\n",
    "        return gm3_sym.g_omega_LA*partial_omega(x_j) + gm3_sym.g_phi_LA*partial_omega(x_j)\\\n",
    "            + baryon_sym.isospin*gm3_sym.g_rho_LA*partial_rho(x_j)"
   ]
  },
  {
   "cell_type": "markdown",
   "id": "39b24df0",
   "metadata": {},
   "source": [
    "## Working towards $\\partial \\mu_i'/\\partial x_j$\n",
    "We have the following expression for \n",
    "$$\n",
    "    \\frac{\\partial \\mu_i'}{\\partial x_j} = \\frac{\\partial }{\\partial x_j}\\sqrt{k_{F_i}^2 + {m_i^*}^2}\n",
    "    = \\frac{1}{2}\\frac{k_{F_i}\\dfrac{\\partial k_{F_i}}{\\partial x_j} - g_{\\sigma i}m_i^* \\dfrac{\\partial\\sigma}{\\partial x_j}}{\\sqrt{k_{F_i}^2 + {m_i^*}^2}}\n",
    "$$\n",
    "which depends on \n",
    "$$\n",
    "    \\frac{\\partial k_{F_i}}{\\partial x_j} \\qquad \\frac{\\partial\\sigma}{\\partial x_j}\n",
    "$$"
   ]
  },
  {
   "cell_type": "markdown",
   "id": "62da4d9c",
   "metadata": {},
   "source": [
    "#### Calculating $\\frac{\\partial k_{F_i}}{\\partial x_j}$ with respect to independent variables"
   ]
  },
  {
   "cell_type": "code",
   "execution_count": 64,
   "id": "a24e48b4",
   "metadata": {},
   "outputs": [],
   "source": [
    "def partial_fermi(baryon_sym, x_j):\n",
    "    # assumes baryon number density has already been re-written in terms of independent variables at the beginning\n",
    "    kFi = (3*Pi**2*baryon_sym.num_density)**(sym.S(1)/3)\n",
    "    return kFi.diff(x_j)"
   ]
  },
  {
   "cell_type": "markdown",
   "id": "940cf631",
   "metadata": {},
   "source": [
    "### Calculate $\\partial \\sigma/\\partial x_j$\n",
    "From the notes, we have\n",
    "$$\n",
    "    \\frac{\\partial \\sigma}{\\partial x_j} = \\frac{\\sum_i g_{\\sigma i} \\beta_i \\dfrac{\\partial k_{F_i}}{\\partial x_j}}{m_\\sigma^2 + \\dfrac{\\partial^2 U}{\\partial \\sigma^2} - \\sum_i g_{\\sigma i}\\alpha_i}\n",
    "$$\n",
    "where\n",
    "$$\n",
    "    \\alpha_i = \\left[\\frac{3}{2}\\frac{g_{\\sigma i}{m_i^*}^2}{\\pi^2}\n",
    "        \\ln\\frac{k_{F_i} + E_{F_i}}{m_i^*} -\\frac{g_{\\sigma i}}{\\pi^2}\\left(\\frac{1}{2}k_{F_i}E_{F_i} + {m_i^*}^2\\frac{k_{F_i}}{E_{F_i}}\\right)\\right]\n",
    "$$\n",
    "and\n",
    "$$\n",
    "    \\beta_i = \\frac{m_i^*}{\\pi^2}\\frac{k_{F_i}^2}{E_{F_i}}\n",
    "$$"
   ]
  },
  {
   "cell_type": "markdown",
   "id": "b26d6d8b",
   "metadata": {},
   "source": [
    "We have alpha given here but as we see, the code is a little ugly and redundant. We can improve this by using a sub class hopefully? Not esssential I guess."
   ]
  },
  {
   "cell_type": "code",
   "execution_count": 65,
   "id": "996a1a27",
   "metadata": {},
   "outputs": [],
   "source": [
    "def alpha(baryon_sym):\n",
    "    if (baryon_sym.kind == 'Nucleon'):\n",
    "        term1 = (3/2/Pi**2)*gm3_sym.g_sigma_N*baryon_sym.mass_eff**2*sym.log((baryon_sym.kf + baryon_sym.ef)/baryon_sym.mass_eff)\n",
    "        term2 = (1/2)*baryon_sym.kf*baryon_sym.ef \n",
    "        term3 = baryon_sym.mass_eff**2*baryon_sym.kf/baryon_sym.ef\n",
    "        return term1 - gm3_sym.g_sigma_N/Pi**2*(term2 + term3)\n",
    "    elif (baryon_sym.kind == 'Hyperon'):\n",
    "        term1 = (3/2/Pi**2)*gm3_sym.g_sigma_LA*baryon_sym.mass_eff**2*sym.log((baryon_sym.kf + baryon_sym.ef)/baryon_sym.mass_eff)\n",
    "        term2 = (1/2)*baryon_sym.kf*baryon_sym.ef \n",
    "        term3 = baryon_sym.mass_eff**2*baryon_sym.kf/baryon_sym.ef\n",
    "        return term1 - gm3_sym.g_sigma_LA/Pi**2*(term2 + term3)\n",
    "\n",
    "def beta(baryon_sym):\n",
    "    return baryon_sym.mass_eff*baryon_sym.kf**2/Pi**2/baryon_sym.ef"
   ]
  },
  {
   "cell_type": "markdown",
   "id": "33b35010",
   "metadata": {},
   "source": [
    "Now that we have our two ''unknowns'' we can plug back into the specified expression for partial sigma."
   ]
  },
  {
   "cell_type": "code",
   "execution_count": 66,
   "id": "bbf74ff6",
   "metadata": {},
   "outputs": [],
   "source": [
    "def partial_sigma(baryon, x_j):\n",
    "    # returns dsigma/dx_j\n",
    "    \n",
    "    numerator = 0 \n",
    "    denominator = sigma_sym.mass**2 + sym.diff(U(sym.symbols('sigma')),sym.symbols('sigma'),sym.symbols('sigma'))\n",
    "    for i in range(len(baryon_list)):\n",
    "        if (baryon_list[i].kind == 'Nucleon'):\n",
    "            numerator = numerator + gm3_sym.g_sigma_N*beta(baryon_list[i])*partial_fermi(baryon, x_j)\n",
    "            denominator = denominator - gm3_sym.g_sigma_N*alpha(baryon_list[i])\n",
    "        elif (baryon_list[i].kind == 'Hyperon'):\n",
    "            numerator = numerator + gm3_sym.g_sigma_LA*beta(baryon_list[i])*partial_fermi(baryon, x_j)\n",
    "            denominator = denominator - gm3_sym.g_sigma_LA*alpha(baryon_list[i])\n",
    "    \n",
    "    return numerator/denominator"
   ]
  },
  {
   "cell_type": "markdown",
   "id": "bc92bab6",
   "metadata": {},
   "source": [
    "### Arriving at expression for $\\partial \\mu'_i/\\partial x_j$\n",
    "With both $    \\frac{\\partial k_{F_i}}{\\partial x_j}$ and $\\frac{\\partial\\sigma}{\\partial x_j}$ in hand, we have \n",
    "$\\partial \\mu'_i/\\partial x_j$ via \n",
    "$$\n",
    "    \\frac{\\partial \\mu_i'}{\\partial x_j} = \\frac{\\partial }{\\partial x_j}\\sqrt{k_{F_i}^2 + {m_i^*}^2}\n",
    "    = \\frac{1}{2}\\frac{k_{F_i}\\dfrac{\\partial k_{F_i}}{\\partial x_j} - g_{\\sigma i}m_i^* \\dfrac{\\partial\\sigma}{\\partial x_j}}{\\sqrt{k_{F_i}^2 + {m_i^*}^2}}\n",
    "$$"
   ]
  },
  {
   "cell_type": "code",
   "execution_count": 31,
   "id": "b771edb2",
   "metadata": {},
   "outputs": [],
   "source": [
    "def partial_mu_prime(baryon, x_j):\n",
    "    if (baryon.kind == 'Nucleon'):\n",
    "        return sym.S(1)/2/sym.sqrt(baryon.kf**2 + baryon.mass_eff**2)*(baryon.kf*partial_fermi(baryon, x_j)\\\n",
    "                - gm3_sym.g_sigma_N*baryon.mass_eff*partial_sigma(baryon, x_j))\n",
    "    elif (baryon.kind == 'Hyperon'):\n",
    "        return sym.S(1)/2/sym.sqrt(baryon.kf**2 + baryon.mass_eff**2)*(baryon.kf*partial_fermi(baryon, x_j)\\\n",
    "                - gm3_sym.g_sigma_LA*baryon.mass_eff*partial_sigma(baryon, x_j))"
   ]
  },
  {
   "cell_type": "markdown",
   "id": "64c7bbc0",
   "metadata": {},
   "source": [
    "## Adding $\\partial \\mu'_i/\\partial x_j$ and $\\partial \\mu^R_i/\\partial x_j$ together to get the Chemical Potential Partial Derivative: $\\partial \\mu_i/\\partial x_j$\n",
    "From $$\n",
    "    \\frac{\\partial \\mu_i}{\\partial x_j} = \\frac{\\partial \\mu_i'}{\\partial x_j} + \\frac{\\partial \\mu_i^R}{\\partial x_j}\n",
    "$$\n"
   ]
  },
  {
   "cell_type": "code",
   "execution_count": 32,
   "id": "b9a6f769",
   "metadata": {},
   "outputs": [],
   "source": [
    "def chem_pot_part_deriv(baryon, x_j):\n",
    "    return partial_mu_prime(baryon, x_j) + partial_mu_R(baryon, x_j)"
   ]
  },
  {
   "cell_type": "markdown",
   "id": "cc351157",
   "metadata": {},
   "source": [
    "For visualization, we calculate the partial derivative of the proton chemical potential with respect to $x_e = x_p$. We see that it is not a fun expression. "
   ]
  },
  {
   "cell_type": "code",
   "execution_count": 317,
   "id": "3e66c809",
   "metadata": {},
   "outputs": [
    {
     "data": {
      "text/latex": [
       "$\\displaystyle \\frac{0.5 g_{\\rho N}^{2} n_{B}}{m_{\\rho}^{2}} + \\frac{- \\frac{g_{\\sigma N} m^{*}_{p} \\left(\\frac{\\sqrt[3]{3} g_{\\sigma N} k_{F p}^{2} m^{*}_{p} \\sqrt[3]{n_{B} \\pi^{2} x_{e}}}{3 E^{*}_{F p} \\pi^{2} x_{e}} + \\frac{\\sqrt[3]{3} g_{\\sigma N} k_{F n}^{2} m^{*}_{n} \\sqrt[3]{n_{B} \\pi^{2} x_{e}}}{3 E^{*}_{F n} \\pi^{2} x_{e}} + \\frac{\\sqrt[3]{3} g_{\\sigma \\Lambda} k_{F \\Lambda}^{2} m^{*}_{\\Lambda} \\sqrt[3]{n_{B} \\pi^{2} x_{e}}}{3 E^{*}_{F \\Lambda} \\pi^{2} x_{e}}\\right)}{- g_{\\sigma \\Lambda} \\left(\\frac{1.5 g_{\\sigma \\Lambda} \\left(m^{*}_{\\Lambda}\\right)^{2} \\log{\\left(\\frac{E^{*}_{F \\Lambda} + k_{F \\Lambda}}{m^{*}_{\\Lambda}} \\right)}}{\\pi^{2}} - \\frac{g_{\\sigma \\Lambda} \\left(0.5 E^{*}_{F \\Lambda} k_{F \\Lambda} + \\frac{k_{F \\Lambda} \\left(m^{*}_{\\Lambda}\\right)^{2}}{E^{*}_{F \\Lambda}}\\right)}{\\pi^{2}}\\right) - g_{\\sigma N} \\left(\\frac{1.5 g_{\\sigma N} \\left(m^{*}_{n}\\right)^{2} \\log{\\left(\\frac{E^{*}_{F n} + k_{F n}}{m^{*}_{n}} \\right)}}{\\pi^{2}} - \\frac{g_{\\sigma N} \\left(0.5 E^{*}_{F n} k_{F n} + \\frac{k_{F n} \\left(m^{*}_{n}\\right)^{2}}{E^{*}_{F n}}\\right)}{\\pi^{2}}\\right) - g_{\\sigma N} \\left(\\frac{1.5 g_{\\sigma N} \\left(m^{*}_{p}\\right)^{2} \\log{\\left(\\frac{E^{*}_{F p} + k_{F p}}{m^{*}_{p}} \\right)}}{\\pi^{2}} - \\frac{g_{\\sigma N} \\left(0.5 E^{*}_{F p} k_{F p} + \\frac{k_{F p} \\left(m^{*}_{p}\\right)^{2}}{E^{*}_{F p}}\\right)}{\\pi^{2}}\\right) + m_{\\sigma}^{2} + \\frac{d^{2}}{d \\sigma^{2}} U{\\left(\\sigma \\right)}} + \\frac{\\sqrt[3]{3} k_{F p} \\sqrt[3]{n_{B} \\pi^{2} x_{e}}}{3 x_{e}}}{2 \\sqrt{k_{F p}^{2} + \\left(m^{*}_{p}\\right)^{2}}}$"
      ],
      "text/plain": [
       "0.5*g_rho_N**2*n_B/m_rho**2 + (-g_sigma_N*m_p^**(3**(1/3)*g_sigma_N*k_F_p**2*m_p^**(n_B*pi**2*x_e)**(1/3)/(3*E^*_F_p*pi**2*x_e) + 3**(1/3)*g_sigma_N*k_F_n**2*m_n^**(n_B*pi**2*x_e)**(1/3)/(3*E^*_F_n*pi**2*x_e) + 3**(1/3)*g_sigma_Lambda*k_F_Lambda**2*m_Lambda^**(n_B*pi**2*x_e)**(1/3)/(3*E^*_F_Lambda*pi**2*x_e))/(-g_sigma_Lambda*(1.5*g_sigma_Lambda*m_Lambda^***2*log((E^*_F_Lambda + k_F_Lambda)/m_Lambda^*)/pi**2 - g_sigma_Lambda*(0.5*E^*_F_Lambda*k_F_Lambda + k_F_Lambda*m_Lambda^***2/E^*_F_Lambda)/pi**2) - g_sigma_N*(1.5*g_sigma_N*m_n^***2*log((E^*_F_n + k_F_n)/m_n^*)/pi**2 - g_sigma_N*(0.5*E^*_F_n*k_F_n + k_F_n*m_n^***2/E^*_F_n)/pi**2) - g_sigma_N*(1.5*g_sigma_N*m_p^***2*log((E^*_F_p + k_F_p)/m_p^*)/pi**2 - g_sigma_N*(0.5*E^*_F_p*k_F_p + k_F_p*m_p^***2/E^*_F_p)/pi**2) + m_sigma**2 + Derivative(U(sigma), (sigma, 2))) + 3**(1/3)*k_F_p*(n_B*pi**2*x_e)**(1/3)/(3*x_e))/(2*sqrt(k_F_p**2 + m_p^***2))"
      ]
     },
     "execution_count": 317,
     "metadata": {},
     "output_type": "execute_result"
    }
   ],
   "source": [
    "chem_pot_part_deriv(proton_sym, xe.var)"
   ]
  },
  {
   "cell_type": "markdown",
   "id": "87a0a1db",
   "metadata": {},
   "source": [
    "## Numerical Calculations\n",
    "1. We have a symbolic expression for the chemical potential partial derivatives. In this part, we want to then get the numerical expressions. We substitute in for all variables the values of the fields, masses, coupling constants, fractions, etc. The plan here is to take the data from the data file and for each data row (ie, for a given nB and other fixed fractions and stuff) and store that in the numeric baryon class. Assuming that is done, we can then..."
   ]
  },
  {
   "cell_type": "code",
   "execution_count": 229,
   "id": "2799a81a",
   "metadata": {},
   "outputs": [],
   "source": [
    "def electron_part_deriv_num(x_j):\n",
    "    # substitute in numerical values and return numerical \n",
    "    # result for partial derivative given nB, xe values\n",
    "    \n",
    "    symbolic_part_deriv = chem_pot_electron(x_j)\n",
    "    \n",
    "    # replace all variables \n",
    "    symbolic_part_deriv = symbolic_part_deriv.subs([(Pi, np.pi), (electron_sym.mass, electron_num.mass),\\\n",
    "                                                   (electron_sym.frac, electron_num.frac), (nb.var, nb.num_val)])\n",
    "    \n",
    "    return sym.simplify(symbolic_part_deriv)"
   ]
  },
  {
   "cell_type": "code",
   "execution_count": 230,
   "id": "9ef73515",
   "metadata": {},
   "outputs": [
    {
     "data": {
      "text/latex": [
       "$\\displaystyle 0.351324263194836$"
      ],
      "text/plain": [
       "0.351324263194836"
      ]
     },
     "execution_count": 230,
     "metadata": {},
     "output_type": "execute_result"
    }
   ],
   "source": [
    "electron_part_deriv_num(nb.var)"
   ]
  },
  {
   "cell_type": "code",
   "execution_count": 209,
   "id": "04302832",
   "metadata": {},
   "outputs": [],
   "source": [
    "def chem_pot_part_deriv_num(baryon, x_j):\n",
    "    # substitute in numerical values and get a numerical \n",
    "    # result for partial derivative of baryon wrt to independent variable \n",
    "    \n",
    "    symbolic_part_deriv = chem_pot_part_deriv(baryon, x_j)\n",
    "    \n",
    "    # replace Pi\n",
    "    symbolic_part_deriv = symbolic_part_deriv.subs(Pi, np.pi)\n",
    "    \n",
    "    # replace baryon masses\n",
    "    for i in range(len(baryon_list)):\n",
    "        symbolic_part_deriv = symbolic_part_deriv.subs(baryon_list[i].mass, baryon_num_list[i].mass)\n",
    "\n",
    "    # replace coupling constants\n",
    "    symbolic_part_deriv = symbolic_part_deriv.subs([(gm3_sym.g_sigma_N, gm3.g_sigma_N),\\\n",
    "                                (gm3_sym.g_sigma_LA, gm3.g_sigma_LA), (gm3_sym.g_omega_N, gm3.g_omega_N),\\\n",
    "                                (gm3_sym.g_omega_LA, gm3.g_omega_LA), (gm3_sym.g_phi_N, gm3.g_phi_N),\\\n",
    "                                (gm3_sym.g_phi_LA, gm3.g_phi_LA), (gm3_sym.g_rho_N, gm3.g_rho_N),\\\n",
    "                                (gm3_sym.g_rho_LA, gm3.g_rho_LA)])\n",
    "\n",
    "    # replace meson field masses\n",
    "    symbolic_part_deriv = symbolic_part_deriv.subs([(omega_sym.mass, omega_num.mass), (sigma_sym.mass, sigma_num.mass),\\\n",
    "                                                   (phi_sym.mass, phi_num.mass), (rho_sym.mass, rho_num.mass)])\n",
    "\n",
    "\n",
    "    for i in range(len(baryon_list)):\n",
    "        if (baryon.kind == \"Nucleon\"):\n",
    "            symbolic_part_deriv = symbolic_part_deriv.subs(baryon_list[i].mass_eff,\\\n",
    "                                                           baryon_num_list[i].mass - gm3.g_omega_N*sigma_num.field)\n",
    "        elif (baryon.kind == \"Hyperon\"):\n",
    "            symbolic_part_deriv = symbolic_part_deriv.subs(baryon_list[i].mass_eff,\\\n",
    "                                                           baryon_num_list[i].mass - gm3.g_omega_LA*sigma_num.field)\n",
    "\n",
    "    # replace fermi momentum\n",
    "    for i in range(len(baryon_list)):\n",
    "        symbolic_part_deriv = symbolic_part_deriv.subs(baryon_list[i].kf, baryon_num_list[i].kf)\n",
    "    \n",
    "    \n",
    "    # replace effective energy\n",
    "    for i in range(len(baryon_list)):\n",
    "        symbolic_part_deriv = symbolic_part_deriv.subs(baryon_list[i].ef, baryon_num_list[i].ef)\n",
    "    \n",
    "\n",
    "    # replace baryon number density\n",
    "    for i in range(len(baryon_list)):\n",
    "        symbolic_part_deriv = symbolic_part_deriv.subs(baryon_list[i].num_density, baryon_num_list[i].num_density)\n",
    "    \n",
    "    \n",
    "    \n",
    "    # replace particle fractions \n",
    "    for i in range(len(baryon_list)):\n",
    "        symbolic_part_deriv = symbolic_part_deriv.subs(baryon_list[i].frac, baryon_num_list[i].frac)\n",
    "    for i in range(len(lepton_list)):\n",
    "        symbolic_part_deriv = symbolic_part_deriv.subs(lepton_list[i].frac, lepton_num_list[i].frac)\n",
    "    \n",
    "    # replace partial derivative of U self energy\n",
    "    symbolic_part_deriv = symbolic_part_deriv.subs(sym.diff(U(sym.symbols('sigma')),sym.symbols('sigma'),sym.symbols('sigma')),\\\n",
    "                                                  2*gm3.b*gm3.g_sigma_N**3*sigma_num.field + 3*gm3.c*gm3.g_sigma_N**4*sigma_num.field**2)\n",
    "    \n",
    "    symbolic_part_deriv = symbolic_part_deriv.subs(nb.var, nb.num_val)\n",
    "    # evaluate \n",
    "    return symbolic_part_deriv"
   ]
  },
  {
   "cell_type": "code",
   "execution_count": 318,
   "id": "b4624b97",
   "metadata": {},
   "outputs": [
    {
     "data": {
      "text/latex": [
       "$\\displaystyle 2.64764836267252 \\cdot 10^{-5}$"
      ],
      "text/plain": [
       "2.64764836267252e-5"
      ]
     },
     "execution_count": 318,
     "metadata": {},
     "output_type": "execute_result"
    }
   ],
   "source": [
    "chem_pot_part_deriv_num(proton_sym, xe.var)"
   ]
  },
  {
   "cell_type": "markdown",
   "id": "cf835ad5",
   "metadata": {},
   "source": [
    "### Tilde Chemical Potentials"
   ]
  },
  {
   "cell_type": "code",
   "execution_count": 236,
   "id": "874b2bad",
   "metadata": {},
   "outputs": [],
   "source": [
    "def part_mu_x_e_tilde(x_j):\n",
    "    return chem_pot_part_deriv_num(neutron_sym, x_j) - chem_pot_part_deriv_num(proton_sym, x_j)\\\n",
    "        - electron_part_deriv_num(x_j)\n",
    "\n",
    "def part_mu_x_l_tilde(x_j):\n",
    "    return chem_pot_part_deriv_num(neutron_sym, x_j) - chem_pot_part_deriv_num(lambda_sym, x_j)"
   ]
  },
  {
   "cell_type": "code",
   "execution_count": 268,
   "id": "9e7b75e5",
   "metadata": {},
   "outputs": [
    {
     "data": {
      "text/latex": [
       "$\\displaystyle 0$"
      ],
      "text/plain": [
       "0"
      ]
     },
     "execution_count": 268,
     "metadata": {},
     "output_type": "execute_result"
    }
   ],
   "source": [
    "part_mu_x_l_tilde(xl.var)"
   ]
  },
  {
   "cell_type": "markdown",
   "id": "27cec005",
   "metadata": {},
   "source": [
    "## Loading in Data\n",
    "1. We read in the data."
   ]
  },
  {
   "cell_type": "code",
   "execution_count": 84,
   "id": "0a7b224f",
   "metadata": {},
   "outputs": [
    {
     "data": {
      "text/html": [
       "<div>\n",
       "<style scoped>\n",
       "    .dataframe tbody tr th:only-of-type {\n",
       "        vertical-align: middle;\n",
       "    }\n",
       "\n",
       "    .dataframe tbody tr th {\n",
       "        vertical-align: top;\n",
       "    }\n",
       "\n",
       "    .dataframe thead th {\n",
       "        text-align: right;\n",
       "    }\n",
       "</style>\n",
       "<table border=\"1\" class=\"dataframe\">\n",
       "  <thead>\n",
       "    <tr style=\"text-align: right;\">\n",
       "      <th></th>\n",
       "      <th>nb/n0</th>\n",
       "      <th>P</th>\n",
       "      <th>E</th>\n",
       "      <th>Sigma</th>\n",
       "      <th>Rho</th>\n",
       "      <th>Omega</th>\n",
       "      <th>Phi</th>\n",
       "      <th>xn</th>\n",
       "      <th>xp</th>\n",
       "      <th>xe</th>\n",
       "      <th>xL</th>\n",
       "      <th>fermi_n</th>\n",
       "      <th>fermi_p</th>\n",
       "      <th>fermi_e</th>\n",
       "      <th>fermi_L</th>\n",
       "      <th>nan</th>\n",
       "    </tr>\n",
       "  </thead>\n",
       "  <tbody>\n",
       "    <tr>\n",
       "      <th>0</th>\n",
       "      <td>0.28</td>\n",
       "      <td>0.070686</td>\n",
       "      <td>40.349774</td>\n",
       "      <td>8.198005</td>\n",
       "      <td>-2.328705</td>\n",
       "      <td>4.681230</td>\n",
       "      <td>-0.000000</td>\n",
       "      <td>0.990944</td>\n",
       "      <td>0.009056</td>\n",
       "      <td>0.009056</td>\n",
       "      <td>0.000000</td>\n",
       "      <td>212.949950</td>\n",
       "      <td>44.522679</td>\n",
       "      <td>44.522679</td>\n",
       "      <td>0.000000</td>\n",
       "      <td>NaN</td>\n",
       "    </tr>\n",
       "    <tr>\n",
       "      <th>1</th>\n",
       "      <td>0.29</td>\n",
       "      <td>0.080052</td>\n",
       "      <td>41.793525</td>\n",
       "      <td>8.453906</td>\n",
       "      <td>-2.409592</td>\n",
       "      <td>4.848417</td>\n",
       "      <td>-0.000000</td>\n",
       "      <td>0.990479</td>\n",
       "      <td>0.009521</td>\n",
       "      <td>0.009521</td>\n",
       "      <td>0.000000</td>\n",
       "      <td>215.421820</td>\n",
       "      <td>45.803502</td>\n",
       "      <td>45.803502</td>\n",
       "      <td>0.000000</td>\n",
       "      <td>NaN</td>\n",
       "    </tr>\n",
       "    <tr>\n",
       "      <th>2</th>\n",
       "      <td>0.30</td>\n",
       "      <td>0.090248</td>\n",
       "      <td>43.237612</td>\n",
       "      <td>8.707875</td>\n",
       "      <td>-2.490287</td>\n",
       "      <td>5.015604</td>\n",
       "      <td>-0.000000</td>\n",
       "      <td>0.990008</td>\n",
       "      <td>0.009992</td>\n",
       "      <td>0.009992</td>\n",
       "      <td>0.000000</td>\n",
       "      <td>217.835457</td>\n",
       "      <td>47.075844</td>\n",
       "      <td>47.075844</td>\n",
       "      <td>0.000000</td>\n",
       "      <td>NaN</td>\n",
       "    </tr>\n",
       "    <tr>\n",
       "      <th>3</th>\n",
       "      <td>0.31</td>\n",
       "      <td>0.101300</td>\n",
       "      <td>44.682054</td>\n",
       "      <td>8.959955</td>\n",
       "      <td>-2.570788</td>\n",
       "      <td>5.182791</td>\n",
       "      <td>-0.000000</td>\n",
       "      <td>0.989530</td>\n",
       "      <td>0.010470</td>\n",
       "      <td>0.010470</td>\n",
       "      <td>0.000000</td>\n",
       "      <td>220.194014</td>\n",
       "      <td>48.339953</td>\n",
       "      <td>48.339953</td>\n",
       "      <td>0.000000</td>\n",
       "      <td>NaN</td>\n",
       "    </tr>\n",
       "    <tr>\n",
       "      <th>4</th>\n",
       "      <td>0.32</td>\n",
       "      <td>0.113235</td>\n",
       "      <td>46.126866</td>\n",
       "      <td>9.210186</td>\n",
       "      <td>-2.651092</td>\n",
       "      <td>5.349977</td>\n",
       "      <td>-0.000000</td>\n",
       "      <td>0.989046</td>\n",
       "      <td>0.010954</td>\n",
       "      <td>0.010954</td>\n",
       "      <td>0.000000</td>\n",
       "      <td>222.500376</td>\n",
       "      <td>49.596057</td>\n",
       "      <td>49.596057</td>\n",
       "      <td>0.000000</td>\n",
       "      <td>NaN</td>\n",
       "    </tr>\n",
       "    <tr>\n",
       "      <th>...</th>\n",
       "      <td>...</td>\n",
       "      <td>...</td>\n",
       "      <td>...</td>\n",
       "      <td>...</td>\n",
       "      <td>...</td>\n",
       "      <td>...</td>\n",
       "      <td>...</td>\n",
       "      <td>...</td>\n",
       "      <td>...</td>\n",
       "      <td>...</td>\n",
       "      <td>...</td>\n",
       "      <td>...</td>\n",
       "      <td>...</td>\n",
       "      <td>...</td>\n",
       "      <td>...</td>\n",
       "      <td>...</td>\n",
       "    </tr>\n",
       "    <tr>\n",
       "      <th>768</th>\n",
       "      <td>7.96</td>\n",
       "      <td>424.462572</td>\n",
       "      <td>1518.141189</td>\n",
       "      <td>76.157712</td>\n",
       "      <td>-19.387450</td>\n",
       "      <td>110.614440</td>\n",
       "      <td>-18.722709</td>\n",
       "      <td>0.390550</td>\n",
       "      <td>0.103000</td>\n",
       "      <td>0.103000</td>\n",
       "      <td>0.506450</td>\n",
       "      <td>476.509635</td>\n",
       "      <td>305.580406</td>\n",
       "      <td>305.580406</td>\n",
       "      <td>519.627154</td>\n",
       "      <td>NaN</td>\n",
       "    </tr>\n",
       "    <tr>\n",
       "      <th>769</th>\n",
       "      <td>7.97</td>\n",
       "      <td>425.578051</td>\n",
       "      <td>1520.582346</td>\n",
       "      <td>76.195184</td>\n",
       "      <td>-19.389709</td>\n",
       "      <td>110.732982</td>\n",
       "      <td>-18.763248</td>\n",
       "      <td>0.390156</td>\n",
       "      <td>0.102934</td>\n",
       "      <td>0.102934</td>\n",
       "      <td>0.506910</td>\n",
       "      <td>476.548918</td>\n",
       "      <td>305.642795</td>\n",
       "      <td>305.642795</td>\n",
       "      <td>520.001921</td>\n",
       "      <td>NaN</td>\n",
       "    </tr>\n",
       "    <tr>\n",
       "      <th>770</th>\n",
       "      <td>7.98</td>\n",
       "      <td>426.695085</td>\n",
       "      <td>1523.024904</td>\n",
       "      <td>76.232608</td>\n",
       "      <td>-19.391960</td>\n",
       "      <td>110.851508</td>\n",
       "      <td>-18.803800</td>\n",
       "      <td>0.389763</td>\n",
       "      <td>0.102868</td>\n",
       "      <td>0.102868</td>\n",
       "      <td>0.507369</td>\n",
       "      <td>476.588102</td>\n",
       "      <td>305.705038</td>\n",
       "      <td>305.705038</td>\n",
       "      <td>520.376269</td>\n",
       "      <td>NaN</td>\n",
       "    </tr>\n",
       "    <tr>\n",
       "      <th>771</th>\n",
       "      <td>7.99</td>\n",
       "      <td>427.813675</td>\n",
       "      <td>1525.468863</td>\n",
       "      <td>76.269983</td>\n",
       "      <td>-19.394204</td>\n",
       "      <td>110.970019</td>\n",
       "      <td>-18.844365</td>\n",
       "      <td>0.389371</td>\n",
       "      <td>0.102802</td>\n",
       "      <td>0.102802</td>\n",
       "      <td>0.507827</td>\n",
       "      <td>476.627187</td>\n",
       "      <td>305.767137</td>\n",
       "      <td>305.767137</td>\n",
       "      <td>520.750198</td>\n",
       "      <td>NaN</td>\n",
       "    </tr>\n",
       "    <tr>\n",
       "      <th>772</th>\n",
       "      <td>8.00</td>\n",
       "      <td>428.933819</td>\n",
       "      <td>1527.914222</td>\n",
       "      <td>76.307311</td>\n",
       "      <td>-19.396441</td>\n",
       "      <td>111.088515</td>\n",
       "      <td>-18.884943</td>\n",
       "      <td>0.388980</td>\n",
       "      <td>0.102736</td>\n",
       "      <td>0.102736</td>\n",
       "      <td>0.508284</td>\n",
       "      <td>476.666172</td>\n",
       "      <td>305.829092</td>\n",
       "      <td>305.829092</td>\n",
       "      <td>521.123709</td>\n",
       "      <td>NaN</td>\n",
       "    </tr>\n",
       "  </tbody>\n",
       "</table>\n",
       "<p>773 rows × 16 columns</p>\n",
       "</div>"
      ],
      "text/plain": [
       "     nb/n0           P            E      Sigma        Rho       Omega  \\\n",
       "0     0.28    0.070686    40.349774   8.198005  -2.328705    4.681230   \n",
       "1     0.29    0.080052    41.793525   8.453906  -2.409592    4.848417   \n",
       "2     0.30    0.090248    43.237612   8.707875  -2.490287    5.015604   \n",
       "3     0.31    0.101300    44.682054   8.959955  -2.570788    5.182791   \n",
       "4     0.32    0.113235    46.126866   9.210186  -2.651092    5.349977   \n",
       "..     ...         ...          ...        ...        ...         ...   \n",
       "768   7.96  424.462572  1518.141189  76.157712 -19.387450  110.614440   \n",
       "769   7.97  425.578051  1520.582346  76.195184 -19.389709  110.732982   \n",
       "770   7.98  426.695085  1523.024904  76.232608 -19.391960  110.851508   \n",
       "771   7.99  427.813675  1525.468863  76.269983 -19.394204  110.970019   \n",
       "772   8.00  428.933819  1527.914222  76.307311 -19.396441  111.088515   \n",
       "\n",
       "           Phi        xn        xp        xe        xL     fermi_n  \\\n",
       "0    -0.000000  0.990944  0.009056  0.009056  0.000000  212.949950   \n",
       "1    -0.000000  0.990479  0.009521  0.009521  0.000000  215.421820   \n",
       "2    -0.000000  0.990008  0.009992  0.009992  0.000000  217.835457   \n",
       "3    -0.000000  0.989530  0.010470  0.010470  0.000000  220.194014   \n",
       "4    -0.000000  0.989046  0.010954  0.010954  0.000000  222.500376   \n",
       "..         ...       ...       ...       ...       ...         ...   \n",
       "768 -18.722709  0.390550  0.103000  0.103000  0.506450  476.509635   \n",
       "769 -18.763248  0.390156  0.102934  0.102934  0.506910  476.548918   \n",
       "770 -18.803800  0.389763  0.102868  0.102868  0.507369  476.588102   \n",
       "771 -18.844365  0.389371  0.102802  0.102802  0.507827  476.627187   \n",
       "772 -18.884943  0.388980  0.102736  0.102736  0.508284  476.666172   \n",
       "\n",
       "        fermi_p     fermi_e     fermi_L  nan  \n",
       "0     44.522679   44.522679    0.000000  NaN  \n",
       "1     45.803502   45.803502    0.000000  NaN  \n",
       "2     47.075844   47.075844    0.000000  NaN  \n",
       "3     48.339953   48.339953    0.000000  NaN  \n",
       "4     49.596057   49.596057    0.000000  NaN  \n",
       "..          ...         ...         ...  ...  \n",
       "768  305.580406  305.580406  519.627154  NaN  \n",
       "769  305.642795  305.642795  520.001921  NaN  \n",
       "770  305.705038  305.705038  520.376269  NaN  \n",
       "771  305.767137  305.767137  520.750198  NaN  \n",
       "772  305.829092  305.829092  521.123709  NaN  \n",
       "\n",
       "[773 rows x 16 columns]"
      ]
     },
     "execution_count": 84,
     "metadata": {},
     "output_type": "execute_result"
    }
   ],
   "source": [
    "data = pd.read_csv(r'/Users/vinhtran/Downloads/datafile_gm3.txt', sep=\" \", header=0,\\\n",
    "                       names = ['nb/n0', 'P', 'E', 'Sigma', 'Rho','Omega', 'Phi', 'xn', 'xp',\\\n",
    "                            'xe', 'xL', 'fermi_n', 'fermi_p', 'fermi_e', 'fermi_L', 'nan'])\n",
    "data"
   ]
  },
  {
   "cell_type": "code",
   "execution_count": 132,
   "id": "81227585",
   "metadata": {},
   "outputs": [],
   "source": [
    "nb_array = data.loc[:,'nb/n0'].values\n",
    "P_array = data.loc[:,'P'].values\n",
    "E_array = data.loc[:,'E'].values\n",
    "sigma_array = data.loc[:,'Sigma'].values\n",
    "rho_array = data.loc[:,'Rho'].values\n",
    "omega_array = data.loc[:,'Omega'].values\n",
    "phi_array = data.loc[:,'Phi'].values\n",
    "\n",
    "neutron_frac = data.loc[:, 'xn'].values\n",
    "proton_frac = data.loc[:, 'xp'].values\n",
    "electron_frac = data.loc[:, 'xe'].values\n",
    "lambda_frac = data.loc[:, 'xL'].values\n",
    "\n",
    "fermi_n = data.loc[:, 'fermi_n'].values\n",
    "fermi_p = data.loc[:, 'fermi_p'].values\n",
    "fermi_e = data.loc[:, 'fermi_e'].values\n",
    "fermi_L = data.loc[:, 'fermi_L'].values"
   ]
  },
  {
   "cell_type": "code",
   "execution_count": 403,
   "id": "fc7ae9b1",
   "metadata": {},
   "outputs": [],
   "source": [
    "def load_values(i):\n",
    "    # load in values to numerical baryon object from data table \n",
    "    # this is done in anticipation of numerical calculation of partial derivatives\n",
    "    \n",
    "    #for i in range(len(nb_array)):\n",
    "        nb.num_val = nb_array[i]\n",
    "        # allocate values \n",
    "        sigma_num.field = sigma_array[i]\n",
    "        rho_num.field = rho_array[i]\n",
    "        omega_num.field = omega_array[i]\n",
    "        phi_num.field = phi_array[i]\n",
    "        \n",
    "        neutron_num.frac = neutron_frac[i]\n",
    "        proton_num.frac = proton_frac[i]\n",
    "        electron_num.frac = electron_frac[i]\n",
    "        lambda_num.frac = lambda_frac[i]\n",
    "        \n",
    "        neutron_num.kf = fermi_n[i]\n",
    "        proton_num.kf = fermi_p[i]\n",
    "        electron_num.kf = fermi_e[i]\n",
    "        lambda_num.kf = fermi_L[i]\n",
    "        \n",
    "        # need to fill in eff values!!\n",
    "        neutron_num.ef = np.sqrt(neutron_num.kf**2 + (neutron_num.mass - gm3.g_omega_N*sigma_num.field)**2)\n",
    "        proton_num.ef = np.sqrt(neutron_num.kf**2 + (proton_num.mass - gm3.g_omega_N*sigma_num.field)**2)\n",
    "        lambda_num.ef = np.sqrt(neutron_num.kf**2 + (lambda_num.mass - gm3.g_omega_LA*sigma_num.field)**2)\n",
    "        \n",
    "        # calculate partial derivative\n",
    "        #return chem_pot_part_deriv_num(proton_sym, xe.var)\n",
    "        \n",
    "        # fill in chemical potential values I guess\n",
    "        baryon_chemical_potential(neutron_num)"
   ]
  },
  {
   "cell_type": "code",
   "execution_count": 404,
   "id": "b0efde7c",
   "metadata": {},
   "outputs": [],
   "source": [
    "load_values(400)"
   ]
  },
  {
   "cell_type": "markdown",
   "id": "af9c2fc1",
   "metadata": {},
   "source": [
    "## System of Equations\n",
    "We have two equations here:\n",
    "$$\n",
    "    \\frac{\\partial \\tilde{\\mu}_{x_e}}{\\partial n_B} = -\\sum_j \\frac{\\partial \\tilde{\\mu}_{x_e}}{\\partial x_j}\\frac{dx_j}{dn_B} \\qquad j \\in \\text{ind. vars.}\n",
    "$$\n",
    "and\n",
    "$$\n",
    "    \\frac{\\partial \\tilde{\\mu}_{x_\\Lambda}}{\\partial n_B} = -\\sum_j \\frac{\\partial \\tilde{\\mu}_{x_\\Lambda}}{\\partial x_j}\\frac{dx_j}{dn_B} \\qquad j \\in \\text{ind. vars.}\n",
    "$$\n",
    "And our goal is to solve for $dx_j/dn_B$."
   ]
  },
  {
   "cell_type": "code",
   "execution_count": 255,
   "id": "787dd2d2",
   "metadata": {},
   "outputs": [],
   "source": [
    "total_deriv_ind_var = [sym.diff(xe.func(nb.var), nb.var), sym.diff(xl.func(nb.var), nb.var)]"
   ]
  },
  {
   "cell_type": "code",
   "execution_count": 383,
   "id": "4738044a",
   "metadata": {},
   "outputs": [],
   "source": [
    "def expression_xe(independent_variables, total_deriv_ind_var):\n",
    "    expression = 0.0 \n",
    "    for i in range(len(independent_variables)-1):\n",
    "        expression = part_mu_x_e_tilde(independent_variables[i+1].var)*total_deriv_ind_var[i] + expression\n",
    "        #print(expression)\n",
    "    return part_mu_x_e_tilde(nb.var) + expression \n",
    "\n",
    "def expression_xl(independent_variables, total_deriv_ind_var):\n",
    "    expression = 0.0 \n",
    "    for i in range(len(independent_variables)-1):\n",
    "        expression = part_mu_x_l_tilde(independent_variables[i+1].var)*total_deriv_ind_var[i] + expression\n",
    "    return part_mu_x_l_tilde(nb.var) + expression "
   ]
  },
  {
   "cell_type": "code",
   "execution_count": 493,
   "id": "fb65ae76",
   "metadata": {},
   "outputs": [],
   "source": [
    "def numerical_total_deriv(independent_variables, total_deriv_ind_var):\n",
    "    # return numerical values for total derivatives of ind. vars with respect to nB\n",
    "    \n",
    "    eqn1 = expression_xe(independent_variables, total_deriv_ind_var)\n",
    "    eqn2 = expression_xl(independent_variables, total_deriv_ind_var)\n",
    "\n",
    "    #expr = sym.linsolve([eqn1, eqn2], (total_deriv_ind_var))\n",
    "    expr = sym.solve([eqn1, eqn2], (total_deriv_ind_var), dict = 'True')\n",
    "    \n",
    "    independent_variables[1].total_deriv = expr[0][total_deriv_ind_var[0]]\n",
    "    independent_variables[2].total_deriv = expr[0][total_deriv_ind_var[1]]"
   ]
  },
  {
   "cell_type": "code",
   "execution_count": 494,
   "id": "7f84159b",
   "metadata": {},
   "outputs": [],
   "source": [
    "load_values(100)\n",
    "#numerical_total_deriv(independent_variables, total_deriv_ind_var)"
   ]
  },
  {
   "cell_type": "code",
   "execution_count": 495,
   "id": "f47a704a",
   "metadata": {},
   "outputs": [],
   "source": [
    "numerical_total_deriv(independent_variables, total_deriv_ind_var)"
   ]
  },
  {
   "cell_type": "markdown",
   "id": "93c945b4",
   "metadata": {},
   "source": [
    "## Sound Speed Difference\n",
    "\n",
    "$$\n",
    "    c_s^2 - c_e^2 = - \\frac{n_B^2}{\\mu_n}\n",
    "    \\sum_j \\frac{\\partial \\tilde{\\mu}_{x_j}}{\\partial n_B}\\frac{dx_j}{dn_B} \\qquad j \\in \\text{ind. var minus $n_B$}\n",
    "$$"
   ]
  },
  {
   "cell_type": "code",
   "execution_count": 342,
   "id": "9bf23865",
   "metadata": {},
   "outputs": [],
   "source": [
    "def baryon_chemical_potential(baryon):\n",
    "    if (baryon.kind == 'Nucleon'):\n",
    "        baryon.chem_pot = np.sqrt(baryon.kf**2 + baryon.ef**2) + gm3.g_omega_N*omega_num.field\\\n",
    "                    + gm3.g_phi_N*phi_num.field + baryon.isospin*gm3.g_rho_N*rho_num.field\n",
    "        #return np.sqrt(baryon.kf**2 + baryon.ef**2) + gm3.g_omega_N*omega_num.field\\\n",
    "        #            + gm3.g_phi_N*phi_num.field + baryon.isospin*gm3.g_rho_N*rho_num.field\n",
    "    elif (baryon.kind == 'Hyperon'):\n",
    "        baryon.chem_pot = np.sqrt(baryon.kf**2 + baryon.ef**2) + gm3.g_omega_N*omega_num.field\\\n",
    "                    + gm3.g_phi_N*phi_num.field + baryon.isospin*gm3.g_rho_N*rho_num.field\n",
    "        #return np.sqrt(baryon.kf**2 + baryon.ef**2) + gm3.g_omega_LA*omega_num.field\\\n",
    "        #            + gm3.g_phi_LA*phi_num.field + baryon.isospin*gm3.g_rho_LA*rho_num.field"
   ]
  },
  {
   "cell_type": "code",
   "execution_count": 441,
   "id": "9651b1e2",
   "metadata": {},
   "outputs": [],
   "source": [
    "def sound_speed_diff_test():\n",
    "    expression = 0.0\n",
    "    expression = part_mu_x_e_tilde(nb.var)*xe.total_deriv + part_mu_x_l_tilde(nb.var)*xl.total_deriv\n",
    "    return -nb.num_val**2/neutron_num.chem_pot*expression "
   ]
  },
  {
   "cell_type": "markdown",
   "id": "2d098503",
   "metadata": {},
   "source": [
    "# Consolidating Everything Together"
   ]
  },
  {
   "cell_type": "code",
   "execution_count": 412,
   "id": "bc47d9f8",
   "metadata": {},
   "outputs": [],
   "source": [
    "def sound_speed_diff(integer):\n",
    "    load_values(integer)\n",
    "    numerical_total_deriv(independent_variables, total_deriv_ind_var)\n",
    "    return sound_speed_diff_test()"
   ]
  },
  {
   "cell_type": "code",
   "execution_count": 425,
   "id": "417090d2",
   "metadata": {},
   "outputs": [
    {
     "data": {
      "text/latex": [
       "$\\displaystyle -6.5346429147075 \\cdot 10^{-5}$"
      ],
      "text/plain": [
       "-6.53464291470750e-5"
      ]
     },
     "execution_count": 425,
     "metadata": {},
     "output_type": "execute_result"
    }
   ],
   "source": [
    "sound_speed_diff(600)"
   ]
  },
  {
   "cell_type": "code",
   "execution_count": 420,
   "id": "c8bf1027",
   "metadata": {},
   "outputs": [],
   "source": [
    "x = np.zeros(8)\n",
    "y = np.zeros(8)\n",
    "\n",
    "#for i in range(7):\n",
    "#    x[i] = nb_array[i*100]\n",
    "#    y[i] = sound_speed_diff(i*100)"
   ]
  },
  {
   "cell_type": "code",
   "execution_count": 502,
   "id": "c22380ea",
   "metadata": {},
   "outputs": [],
   "source": [
    "x[0] = nb_array[10]\n",
    "x[1] = nb_array[50]\n",
    "x[2] = nb_array[100]\n",
    "x[3] = nb_array[150]\n",
    "x[4] = nb_array[200]\n",
    "x[5] = nb_array[250]\n",
    "x[6] = nb_array[300]\n",
    "x[7] = nb_array[350]"
   ]
  },
  {
   "cell_type": "code",
   "execution_count": 503,
   "id": "9e085cc3",
   "metadata": {},
   "outputs": [],
   "source": [
    "array = [10, 50, 100, 150, 200, 250, 300, 350]"
   ]
  },
  {
   "cell_type": "code",
   "execution_count": 504,
   "id": "f6f030c0",
   "metadata": {},
   "outputs": [],
   "source": [
    "for i in array:\n",
    "    counter = 0\n",
    "    y[counter] = sound_speed_diff(i)\n",
    "    counter = counter + 1"
   ]
  },
  {
   "cell_type": "code",
   "execution_count": 505,
   "id": "0f4e07c5",
   "metadata": {},
   "outputs": [
    {
     "data": {
      "text/plain": [
       "<matplotlib.collections.PathCollection at 0x7feb8010bd60>"
      ]
     },
     "execution_count": 505,
     "metadata": {},
     "output_type": "execute_result"
    },
    {
     "data": {
      "image/png": "[encoded data removed]",
      "text/plain": [
       "<Figure size 432x288 with 1 Axes>"
      ]
     },
     "metadata": {
      "needs_background": "light"
     },
     "output_type": "display_data"
    }
   ],
   "source": [
    "plt.scatter(x,y)"
   ]
  },
  {
   "cell_type": "code",
   "execution_count": 506,
   "id": "754b0372",
   "metadata": {},
   "outputs": [
    {
     "data": {
      "text/plain": [
       "array([0.38, 0.78, 1.28, 1.78, 2.28, 2.78, 3.28, 3.78])"
      ]
     },
     "execution_count": 506,
     "metadata": {},
     "output_type": "execute_result"
    }
   ],
   "source": [
    "x"
   ]
  },
  {
   "cell_type": "markdown",
   "id": "6b88efab",
   "metadata": {},
   "source": [
    "## Future Considerations\n",
    "1. Take what we've done here and write these functions as library functions... Would be amazing if could just call a function that immediately calculates the partial derivatives."
   ]
  }
 ],
 "metadata": {
  "kernelspec": {
   "display_name": "Python 3",
   "language": "python",
   "name": "python3"
  },
  "language_info": {
   "codemirror_mode": {
    "name": "ipython",
    "version": 3
   },
   "file_extension": ".py",
   "mimetype": "text/x-python",
   "name": "python",
   "nbconvert_exporter": "python",
   "pygments_lexer": "ipython3",
   "version": "3.8.8"
  }
 },
 "nbformat": 4,
 "nbformat_minor": 5
}
