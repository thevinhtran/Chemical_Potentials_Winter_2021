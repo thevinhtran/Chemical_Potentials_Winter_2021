{
 "cells": [
  {
   "cell_type": "code",
   "execution_count": 1,
   "id": "a626cb3a",
   "metadata": {},
   "outputs": [],
   "source": [
    "import numpy as np\n",
    "import pandas as pd\n",
    "import matplotlib.pyplot as plt\n",
    "import sympy as sym\n",
    "from scipy import optimize\n",
    "\n",
    "pi = np.pi\n",
    "\n",
    "def sqrt(n):\n",
    "    return np.sqrt(n)\n",
    "\n",
    "def log(n):\n",
    "    return np.log(n)\n",
    "\n",
    "hc = 197.33 # MeV fm\n",
    "n_sat = 0.16 # fm-3"
   ]
  },
  {
   "cell_type": "markdown",
   "id": "f90a482e",
   "metadata": {},
   "source": [
    "## Outline of Steps"
   ]
  },
  {
   "cell_type": "markdown",
   "id": "22792799",
   "metadata": {},
   "source": [
    "#### Start from Lagrangian\n",
    "1. Specify the Lagrangian Model (RMF)\n",
    "2. Get the RMF-approximation Lagrangian which gives effective mass and chemical potential expression\n",
    "3. Calculate Euler-Lagrange equations in terms of baryon and scalar densities\n",
    "4. Re-write EOM's in terms of independent variables\n",
    "4. Solve ??\n",
    "- Would need to learn how to solve this and get field values as function of particle fractions and stuff\n",
    "5. "
   ]
  },
  {
   "cell_type": "markdown",
   "id": "024b8f9c",
   "metadata": {},
   "source": [
    "#### Solve System for total derivs...\n",
    "1. Establish system with desired particles\n",
    "2. Need to write down the system of linear equations in combinations of mu-tilde"
   ]
  },
  {
   "cell_type": "markdown",
   "id": "d8ae787b",
   "metadata": {},
   "source": [
    "#### RMF Equations of Motion\n",
    "1. Re-write equation of motions for meson fields in term of independent variables"
   ]
  },
  {
   "cell_type": "markdown",
   "id": "5ae325d7",
   "metadata": {},
   "source": [
    "#### Calculate Chemical Potential Derivatives"
   ]
  },
  {
   "cell_type": "code",
   "execution_count": null,
   "id": "23cefd78",
   "metadata": {},
   "outputs": [],
   "source": []
  },
  {
   "cell_type": "code",
   "execution_count": null,
   "id": "a31c151c",
   "metadata": {},
   "outputs": [],
   "source": []
  }
 ],
 "metadata": {
  "kernelspec": {
   "display_name": "Python 3",
   "language": "python",
   "name": "python3"
  },
  "language_info": {
   "codemirror_mode": {
    "name": "ipython",
    "version": 3
   },
   "file_extension": ".py",
   "mimetype": "text/x-python",
   "name": "python",
   "nbconvert_exporter": "python",
   "pygments_lexer": "ipython3",
   "version": "3.8.8"
  }
 },
 "nbformat": 4,
 "nbformat_minor": 5
}
