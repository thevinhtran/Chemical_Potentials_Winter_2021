{
 "cells": [
  {
   "cell_type": "markdown",
   "id": "9296f0d1",
   "metadata": {},
   "source": [
    "# Attempt at Implementing Chemical Potentials\n",
    "1. In this notebook, we have arrived at a way to calculate partial derivatives of chemical potentials "
   ]
  },
  {
   "cell_type": "code",
   "execution_count": 119,
   "id": "b5f4c761",
   "metadata": {},
   "outputs": [],
   "source": [
    "import numpy as np\n",
    "import pandas as pd\n",
    "import matplotlib.pyplot as plt\n",
    "import sympy as sym\n",
    "from scipy import optimize\n",
    "\n",
    "pi = np.pi\n",
    "Pi = sym.symbols('pi')\n",
    "\n",
    "def sqrt(n):\n",
    "    return np.sqrt(n)\n",
    "\n",
    "def log(n):\n",
    "    return np.log(n)\n",
    "\n",
    "hc = 197.33 # MeV fm\n",
    "n_sat = 0.16 # fm-3"
   ]
  },
  {
   "cell_type": "markdown",
   "id": "6a598021",
   "metadata": {},
   "source": [
    "## Declaring Classes\n",
    "We declare a relativistic mean field EOS class, baryon, lepton, and meson classes. These store pertinent values for each thing. For example, each particle class stores the mass, fermi momentum, effective energy, etc for the particles.\n",
    "\n",
    "We declare two types of classes: a numeric class that will store numerical values and a symbolic class that stores the symbols. From the latter we can arrive at a symbolic expression for the partial derivatives and stuff. Then, we can substitute in numerical values (in principle) to perform evaluations. "
   ]
  },
  {
   "cell_type": "markdown",
   "id": "13d19e3a",
   "metadata": {},
   "source": [
    "### Equation of State with Coupling Constants\n",
    "1. Allows for collection of coupling constants here. \n",
    "2. In the future could allow for generalization to other RMF-type models albiet at the moment, this would have to be the exact same model but with different coupling values"
   ]
  },
  {
   "cell_type": "code",
   "execution_count": 235,
   "id": "17c37f43",
   "metadata": {},
   "outputs": [],
   "source": [
    "class eos:\n",
    "    def __init__(self, g_sigma_N, g_omega_N, g_rho_N, g_phi_N, b, c,\\\n",
    "                    g_sigma_LA, g_omega_LA, g_rho_LA, g_phi_LA):\n",
    "        \n",
    "        self.g_sigma_N = g_sigma_N\n",
    "        self.g_omega_N = g_omega_N\n",
    "        self.g_rho_N = g_rho_N\n",
    "        self.g_phi_N = g_phi_N\n",
    "        \n",
    "        self.g_sigma_LA = g_sigma_LA\n",
    "        self.g_omega_LA = g_omega_LA\n",
    "        self.g_rho_LA = g_rho_LA\n",
    "        self.g_phi_LA = g_phi_LA\n",
    "        \n",
    "        self.b = b\n",
    "        self.c = c"
   ]
  },
  {
   "cell_type": "code",
   "execution_count": 228,
   "id": "f777b986",
   "metadata": {},
   "outputs": [],
   "source": [
    "# initializing numerical eos object \n",
    "gm3_num = eos(g_sigma_N = 8.784820, g_omega_N = 8.720086, g_rho_N = 8.544795, g_phi_N = 0.0, b = 0.008628, c = -0.002433,\\\n",
    "             g_sigma_LA = 5.408849, g_omega_LA = 5.813391, g_rho_LA = 0.0, g_phi_LA = -4.110688)\n",
    "\n",
    "# initializing symbolic eos object \n",
    "    # declaring symbols \n",
    "g_sigma_N, g_omega_N, g_rho_N, g_phi_N, b, c = sym.symbols('g_sigma_N, g_omega_N, g_rho_N, g_phi_N, b, c')\n",
    "g_sigma_LA, g_omega_LA, g_rho_LA, g_phi_LA = sym.symbols('g_sigma_Lambda, g_omega_Lamda, g_rho_Lambda, g_phi_Lambda')\n",
    "gm3_sym = eos(g_sigma_N, g_omega_N, g_rho_N, g_phi_N, b, c,\\\n",
    "                    g_sigma_LA, g_omega_LA, g_rho_LA, g_phi_LA)"
   ]
  },
  {
   "cell_type": "markdown",
   "id": "058888a3",
   "metadata": {},
   "source": [
    "### Equation of State: Symbolic"
   ]
  },
  {
   "cell_type": "code",
   "execution_count": 15,
   "id": "169d16dc",
   "metadata": {},
   "outputs": [],
   "source": [
    "# declaring symbols\n",
    "g_sigma_N, g_omega_N, g_rho_N, g_phi_N, b, c = sym.symbols('g_sigma_N, g_omega_N, g_rho_N, g_phi_N, b, c')\n",
    "g_sigma_LA, g_omega_LA, g_rho_LA, g_phi_LA = sym.symbols('g_sigma_Lambda, g_omega_Lamda, g_rho_Lambda, g_phi_Lambda')"
   ]
  },
  {
   "cell_type": "code",
   "execution_count": 18,
   "id": "a204762f",
   "metadata": {},
   "outputs": [],
   "source": [
    "# initializing symbolic eos\n",
    "gm3_sym = eos_sym(g_sigma_N, g_omega_N, g_rho_N, g_phi_N, b, c,\\\n",
    "                    g_sigma_LA, g_omega_LA, g_rho_LA, g_phi_LA)"
   ]
  },
  {
   "cell_type": "markdown",
   "id": "3316dde0",
   "metadata": {},
   "source": [
    "### Sigma Field Self Interaction Term\n",
    "$$\n",
    "    U(\\sigma) = \\frac{1}{3}bm_N (g_\\sigma \\sigma)^3 + \\frac{1}{4}c(g_\\sigma \\sigma)^4\n",
    "$$"
   ]
  },
  {
   "cell_type": "code",
   "execution_count": 161,
   "id": "a1687bb3",
   "metadata": {},
   "outputs": [],
   "source": [
    "U = sym.Function('U')"
   ]
  },
  {
   "cell_type": "markdown",
   "id": "5b8cdf13",
   "metadata": {},
   "source": [
    "### Baryons and Leptons\n",
    "1. Declaring classes for baryons and leptons. Allows us to declare a baryon and lepton object that has the relevant data for each type of particle such as mass, charge, Fermi momentum, etc. \n",
    "2. We declare two types of classes: a numerical class and a symbolic class. In the future, could condense this into one class with the other type as a sub-class. The purpose of this is that we first arrive at an expression for the partial derivative of the chemical potentials symbolically. After that, we could then substitute in numerical values."
   ]
  },
  {
   "cell_type": "markdown",
   "id": "44449c75",
   "metadata": {},
   "source": [
    "#### Declaring Numeric Classes"
   ]
  },
  {
   "cell_type": "code",
   "execution_count": 232,
   "id": "143ac4a2",
   "metadata": {},
   "outputs": [],
   "source": [
    "class baryon:\n",
    "    def __init__(self, mass, isospin, charge):\n",
    "    \n",
    "        # variables to be established at baryon declaration\n",
    "        self.mass = mass\n",
    "        self.isospin = isospin\n",
    "        self.charge = charge\n",
    "    \n",
    "        # variables to be stored later\n",
    "        self.num_density = 0.0 \n",
    "        self.frac = 0.0\n",
    "        self.kf = 0.0\n",
    "        self.ef = 0.0\n",
    "        self.chem_pot = 0.0 "
   ]
  },
  {
   "cell_type": "code",
   "execution_count": 233,
   "id": "9987b9dd",
   "metadata": {},
   "outputs": [],
   "source": [
    "proton_num = baryon(939.0, 1/2, 1)\n",
    "neutron_num = baryon(939.0, -1/2, 0)\n",
    "lambda_num = baryon(1116.0, 0, 0)"
   ]
  },
  {
   "cell_type": "markdown",
   "id": "7d8200d8",
   "metadata": {},
   "source": [
    "#### Declaring Symbolic Classes"
   ]
  },
  {
   "cell_type": "code",
   "execution_count": 206,
   "id": "b86a89ec",
   "metadata": {},
   "outputs": [],
   "source": [
    "class lepton_sym:\n",
    "    def __init__(self, mass, num_density, frac, var_type, kf, chem_pot):\n",
    "        self.mass = mass\n",
    "        self.num_density = num_density\n",
    "        self.frac = frac\n",
    "        self.var_type = var_type\n",
    "        self.kf = kf\n",
    "        self.chem_pot = chem_pot"
   ]
  },
  {
   "cell_type": "code",
   "execution_count": 207,
   "id": "9df2d64e",
   "metadata": {},
   "outputs": [],
   "source": [
    "class baryon_sym:\n",
    "    def __init__(self, mass, isospin, num_density, frac, kind, var_type, mass_eff, kf, ef, chem_pot):\n",
    "        self.mass = mass\n",
    "        self.isospin = isospin\n",
    "        self.num_density = num_density\n",
    "        self.frac = frac\n",
    "        self.kind = kind\n",
    "        self.var_type = var_type\n",
    "        \n",
    "        self.mass_eff = mass_eff\n",
    "        self.kf = kf\n",
    "        self.ef = ef\n",
    "        self.chem_pot = chem_pot"
   ]
  },
  {
   "cell_type": "code",
   "execution_count": 208,
   "id": "a4a4b53c",
   "metadata": {},
   "outputs": [],
   "source": [
    "# initializing independent variables\n",
    "nb = sym.symbols('n_B')\n",
    "\n",
    "# electron \n",
    "me, ne, xe, kfe, mu_e = sym.symbols('m_e, n_e, x_e, k_{F_e}, mu_e')\n",
    "electron_sym = lepton_sym(me, ne, xe, 'Independent', kfe, mu_e)\n",
    "\n",
    "# lambda hyperon \n",
    "ml, nl, xl, kfl, efl, m1_eff, mu_l = sym.symbols('m_Lambda, n_Lambda, x_Lambda, k_F_Lambda, E^*_F_Lambda, m_Lambda^*, mu_Lambda')\n",
    "nl = nb*xl\n",
    "lambda_sym = baryon_sym(ml, 0, nl, xl, 'Hyperon', 'Independent', m1_eff, kfl, efl, mu_l)"
   ]
  },
  {
   "cell_type": "code",
   "execution_count": 213,
   "id": "a9c9603e",
   "metadata": {},
   "outputs": [],
   "source": [
    "# intializing dependent variables\n",
    "\n",
    "# proton \n",
    "mp, np, xp, kfp, efp, mp_eff, mu_p = sym.symbols('m_p, n_p, x_p, k_F_p, E^*_F_p, m_p^*, mu_p')\n",
    "np, xp = nb*xe, xe\n",
    "proton_sym = baryon_sym(mp, 1/2, np, xp, 'Nucleon', 'Dependent', mp_eff, kfp, efp, mu_p)\n",
    "\n",
    "# neutron \n",
    "mn, nn, xn, kfn, efn, mn_eff, mu_n = sym.symbols('m_n, n_n, x_n, k_F_n, E^*_F_n, m_n^*, mu_n')\n",
    "nn, xn = nb*(1 - xp - xl), (1-xp -xl)\n",
    "neutron_sym = baryon_sym(mn, -1/2, nn, xn, 'Nucleon', 'Dependent', mn_eff, kfn, efn, mu_n)"
   ]
  },
  {
   "cell_type": "code",
   "execution_count": 234,
   "id": "0beb9e69",
   "metadata": {},
   "outputs": [],
   "source": [
    "# Making a list of baryons\n",
    "baryon_list = [proton_sym, neutron_sym, lambda_sym]\n",
    "baryon_num_list = [proton_num, neutron_num, lambda_num]"
   ]
  },
  {
   "cell_type": "markdown",
   "id": "04fba45c",
   "metadata": {},
   "source": [
    "### Meson Fields"
   ]
  },
  {
   "cell_type": "code",
   "execution_count": 223,
   "id": "6162baa6",
   "metadata": {},
   "outputs": [],
   "source": [
    "class meson:\n",
    "    def __init__(self, mass):\n",
    "        self.mass = mass # in MeV\n",
    "        self.field = 0.0 \n",
    "\n",
    "class meson_sym:\n",
    "    def __init__(self, mass, field):\n",
    "        self.mass = mass\n",
    "        self.field = field"
   ]
  },
  {
   "cell_type": "code",
   "execution_count": 224,
   "id": "8ebc8633",
   "metadata": {},
   "outputs": [],
   "source": [
    "sigma = meson_sym(sym.symbols('m_sigma'), sym.symbols('sigma'))\n",
    "omega = meson_sym(sym.symbols('m_omega'), sym.symbols('omega'))\n",
    "rho = meson_sym(sym.symbols('m_rho'), sym.symbols('rho'))\n",
    "phi = meson_sym(sym.symbols('m_phi'), sym.symbols('phi'))\n",
    "\n",
    "sigma_num = meson(550.0)\n",
    "omega_num = meson(783.0)\n",
    "rho_num = meson(770.0)\n",
    "phi_num = meson(1020.0)"
   ]
  },
  {
   "cell_type": "markdown",
   "id": "caf64273",
   "metadata": {},
   "source": [
    "### Establishing Helpful Lists\n",
    "1. Below we have two lists: a list of the independent variables and a list of the baryons. We sum over these in the code below."
   ]
  },
  {
   "cell_type": "code",
   "execution_count": 181,
   "id": "7ca43551",
   "metadata": {},
   "outputs": [],
   "source": [
    "independent_vars_list = [nb, xe, xl]\n",
    "baryon_list = [neutron_sym, proton_sym, lambda_sym]"
   ]
  },
  {
   "cell_type": "markdown",
   "id": "2b565b94",
   "metadata": {},
   "source": [
    "## Lepton/Electron Chemical Potential Derivative\n",
    "$$\n",
    "    \\mu_e = \\sqrt{k_{F_e}^2 + m_e^2} \\qquad k_{F_e} = (3\\pi^2 n_e)^{1/3} \\qquad \n",
    "       n_e = n_B x_e\n",
    "$$"
   ]
  },
  {
   "cell_type": "code",
   "execution_count": 217,
   "id": "b5fe1043",
   "metadata": {},
   "outputs": [],
   "source": [
    "def chem_pot_electron(x_j):\n",
    "    mu_e = sym.sqrt(electron_sym.kf**2 + electron_sym.mass**2)\n",
    "    mu_e = mu_e.subs(electron_sym.kf, (3*Pi**2*sym.symbols('n_B')*electron_sym.frac)**(sym.S(1)/3))\n",
    "    return mu_e.diff(x_j)"
   ]
  },
  {
   "cell_type": "markdown",
   "id": "62c73830",
   "metadata": {},
   "source": [
    "# Working towards Baryon Chemical Potential Partial Derivatives\n",
    "Ultimately, we want to write down a function that takes a baryon $i$ and an independent variable $x_j$ and returns the partial derivative of the chemical potential of baryon $i$ with respect to $x_j$. That is,\n",
    "$$\n",
    "    \\frac{\\partial \\mu_i}{\\partial x_j} = \\frac{\\partial \\mu_i'}{\\partial x_j} + \\frac{\\partial \\mu_i^R}{\\partial x_j}\n",
    "$$\n",
    "where \n",
    "$$\n",
    "    \\frac{\\partial \\mu_i'}{\\partial x_j} = \\frac{\\partial }{\\partial x_j}\\sqrt{k_{F_i}^2 + {m_i^*}^2}\n",
    "    \\qquad \n",
    "    \\frac{\\partial \\mu_i^R}{\\partial x_j} = \\sum_k g_{\\text{Meson}}\\frac{\\partial }{\\partial x_j}\\text{Meson}_j\n",
    "$$\n",
    "This task is broken down as follows:\n",
    "- Calculate $\\partial \\mu_i'/\\partial x_j$ and $\\partial \\mu_i^R/\\partial x_j$\n",
    "    - For the second task, we need to calculate partial derivatives of meson fields and then multiply by relevant coupling constants \n",
    "    - For the first task, then need to find\n",
    "    \n",
    "With this in mind, let us start from the bottom and work ourselves back up."
   ]
  },
  {
   "cell_type": "markdown",
   "id": "41e5770f",
   "metadata": {},
   "source": [
    "## Working Towards $\\partial \\mu^R_i/\\partial x_j$"
   ]
  },
  {
   "cell_type": "markdown",
   "id": "71735727",
   "metadata": {},
   "source": [
    "#### Calculating Partial Derivatives of Meson Fields with respect to independent variable $x_j$\n",
    "1. Goal here: write a function that takes as input independent variable $x_j$ and returns $\\partial \\omega_0/\\partial x_j$ and more.\n",
    "2. At the moment, we have three functions. But in principle, they are all quite similar. Could try to generalize this by associating to each meson class object an 'Equation of state' function as well as their relevant coupling constants. Would allow us to condense these three equations into one single equation."
   ]
  },
  {
   "cell_type": "code",
   "execution_count": 96,
   "id": "4d347e04",
   "metadata": {},
   "outputs": [],
   "source": [
    "def partial_omega(x_j):\n",
    "    # returns domega/dxj\n",
    "    omega.field = 0\n",
    "    \n",
    "    # equation of motion \n",
    "    for i in range(len(baryon_list)):\n",
    "        if(baryon_list[i].kind == 'Nucleon'):\n",
    "            omega.field = gm3_sym.g_omega_N*baryon_list[i].num_density + omega.field\n",
    "        elif(baryon_list[i].kind == 'Hyperon'):\n",
    "            omega.field = gm3_sym.g_omega_LA*baryon_list[i].num_density + omega.field\n",
    "        \n",
    "    omega.field = 1/omega.mass**2*omega.field \n",
    "    \n",
    "    # calculate partial derivative \n",
    "    return sym.simplify(omega.field.diff(x_j))"
   ]
  },
  {
   "cell_type": "code",
   "execution_count": 105,
   "id": "3defad03",
   "metadata": {},
   "outputs": [],
   "source": [
    "def partial_rho(x_j):\n",
    "    # returns drho/dxj\n",
    "    rho.field = 0 \n",
    "    \n",
    "    # equation of motion\n",
    "    # in the future would be good to call the equation of motion directly here... from Lagrangian\n",
    "    for i in range(len(baryon_list)):\n",
    "        if(baryon_list[i].kind == 'Nucleon'):\n",
    "            rho.field = gm3_sym.g_rho_N*baryon_list[i].num_density*baryon_list[i].isospin + rho.field\n",
    "        elif(baryon_list[i].kind == 'Hyperon'):\n",
    "            rho.field = gm3_sym.g_rho_LA*baryon_list[i].num_density*baryon_list[i].isospin + rho.field\n",
    "    \n",
    "    rho.field = 1/rho.mass**2*rho.field\n",
    "    \n",
    "    # calculate partial derivative\n",
    "    return sym.simplify(rho.field.diff(x_j))"
   ]
  },
  {
   "cell_type": "code",
   "execution_count": 117,
   "id": "79f4649b",
   "metadata": {},
   "outputs": [],
   "source": [
    "def partial_phi(x_j):\n",
    "    # returns dmeson/dxj\n",
    "    phi.field = 0\n",
    "    \n",
    "    # equation of motion \n",
    "    for i in range(len(baryon_list)):\n",
    "        if(baryon_list[i].kind == 'Nucleon'):\n",
    "            phi.field = gm3_sym.g_phi_N*baryon_list[i].num_density + phi.field\n",
    "        elif(baryon_list[i].kind == 'Hyperon'):\n",
    "            phi.field = gm3_sym.g_phi_LA*baryon_list[i].num_density + phi.field\n",
    "        \n",
    "    phi.field = 1/phi.mass**2*phi.field \n",
    "    \n",
    "    # calculate partial derivative \n",
    "    return sym.simplify(phi.field.diff(x_j))"
   ]
  },
  {
   "cell_type": "markdown",
   "id": "2679b7ca",
   "metadata": {},
   "source": [
    "### Arriving at expression for Partial Derivative of $\\mu_i^R$\n",
    "Where \n",
    "$$\n",
    "    \\mu_i^R = g_{\\omega i}\\omega + g_{\\phi i}\\phi + I_{3B}g_{\\rho i}\\rho\n",
    "$$"
   ]
  },
  {
   "cell_type": "code",
   "execution_count": 115,
   "id": "4f67e03a",
   "metadata": {},
   "outputs": [],
   "source": [
    "def partial_mu_R(baryon, x_j):\n",
    "    # returns dmu_i^R/dx_j\n",
    "    \n",
    "    if(baryon.kind == 'Nucleon'):\n",
    "        return gm3_sym.g_omega_N*partial_omega(x_j) + gm3_sym.g_phi_N*partial_phi(x_j)\\\n",
    "            + baryon.isospin*gm3_sym.g_rho_N*partial_rho(x_j)\n",
    "    \n",
    "    elif(baryon.kind == 'Hyperon'):\n",
    "        return gm3_sym.g_omega_LA*partial_omega(x_j) + gm3_sym.g_phi_LA*partial_omega(x_j)\\\n",
    "            + baryon.isospin*gm3_sym.g_rho_LA*partial_rho(x_j)"
   ]
  },
  {
   "cell_type": "markdown",
   "id": "833df389",
   "metadata": {},
   "source": [
    "## Working towards $\\partial \\mu_i'/\\partial x_j$\n",
    "We have the following expression for \n",
    "$$\n",
    "    \\frac{\\partial \\mu_i'}{\\partial x_j} = \\frac{\\partial }{\\partial x_j}\\sqrt{k_{F_i}^2 + {m_i^*}^2}\n",
    "    = \\frac{1}{2}\\frac{k_{F_i}\\dfrac{\\partial k_{F_i}}{\\partial x_j} - g_{\\sigma i}m_i^* \\dfrac{\\partial\\sigma}{\\partial x_j}}{\\sqrt{k_{F_i}^2 + {m_i^*}^2}}\n",
    "$$\n",
    "which depends on \n",
    "$$\n",
    "    \\frac{\\partial k_{F_i}}{\\partial x_j} \\qquad \\frac{\\partial\\sigma}{\\partial x_j}\n",
    "$$"
   ]
  },
  {
   "cell_type": "markdown",
   "id": "c4aedbb4",
   "metadata": {},
   "source": [
    "#### Calculating $\\frac{\\partial k_{F_i}}{\\partial x_j}$ with respect to independent variables"
   ]
  },
  {
   "cell_type": "code",
   "execution_count": 188,
   "id": "84d6d764",
   "metadata": {},
   "outputs": [],
   "source": [
    "def partial_fermi(baryon, x_j):\n",
    "    # assumes baryon number density has already been re-written in terms of independent variables at the beginning\n",
    "    kFi = (3*Pi**2*baryon.num_density)**(sym.S(1)/3)\n",
    "    return kFi.diff(x_j)"
   ]
  },
  {
   "cell_type": "markdown",
   "id": "be09ba32",
   "metadata": {},
   "source": [
    "### Calculate $\\partial \\sigma/\\partial x_j$\n",
    "From the notes, we have\n",
    "$$\n",
    "    \\frac{\\partial \\sigma}{\\partial x_j} = \\frac{\\sum_i g_{\\sigma i} \\beta_i \\dfrac{\\partial k_{F_i}}{\\partial x_j}}{m_\\sigma^2 + \\dfrac{\\partial^2 U}{\\partial \\sigma^2} - \\sum_i g_{\\sigma i}\\alpha_i}\n",
    "$$\n",
    "where\n",
    "$$\n",
    "    \\alpha_i = \\left[\\frac{3}{2}\\frac{g_{\\sigma i}{m_i^*}^2}{\\pi^2}\n",
    "        \\ln\\frac{k_{F_i} + E_{F_i}}{m_i^*} -\\frac{g_{\\sigma i}}{\\pi^2}\\left(\\frac{1}{2}k_{F_i}E_{F_i} + {m_i^*}^2\\frac{k_{F_i}}{E_{F_i}}\\right)\\right]\n",
    "$$\n",
    "and\n",
    "$$\n",
    "    \\beta_i = \\frac{m_i^*}{\\pi^2}\\frac{k_{F_i}^2}{E_{F_i}}\n",
    "$$"
   ]
  },
  {
   "cell_type": "markdown",
   "id": "d7bbbb91",
   "metadata": {},
   "source": [
    "We have alpha given here but as we see, the code is a little ugly and redundant. We can improve this by using a sub class hopefully? Not esssential I guess."
   ]
  },
  {
   "cell_type": "code",
   "execution_count": 142,
   "id": "2fbc2a3b",
   "metadata": {},
   "outputs": [],
   "source": [
    "def alpha(baryon):\n",
    "    if (baryon.kind == 'Nucleon'):\n",
    "        term1 = (3/2/Pi**2)*gm3_sym.g_sigma_N*baryon.mass_eff**2*sym.log((baryon.kf + baryon.ef)/baryon.mass_eff)\n",
    "        term2 = (1/2)*baryon.kf*baryon.ef \n",
    "        term3 = baryon.mass_eff**2*baryon.kf/baryon.ef\n",
    "        return term1 - gm3_sym.g_sigma_N/Pi**2*(term2 + term3)\n",
    "    elif (baryon.kind == 'Hyperon'):\n",
    "        term1 = (3/2/Pi**2)*gm3_sym.g_sigma_LA*baryon.mass_eff**2*sym.log((baryon.kf + baryon.ef)/baryon.mass_eff)\n",
    "        term2 = (1/2)*baryon.kf*baryon.ef \n",
    "        term3 = baryon.mass_eff**2*baryon.kf/baryon.ef\n",
    "        return term1 - gm3_sym.g_sigma_LA/Pi**2*(term2 + term3)\n",
    "\n",
    "def beta(baryon):\n",
    "    return baryon.mass_eff*baryon.kf**2/Pi**2/baryon.ef"
   ]
  },
  {
   "cell_type": "markdown",
   "id": "9daa2cee",
   "metadata": {},
   "source": [
    "Now that we have our two ''unknowns'' we can plug back into the specified expression for partial sigma."
   ]
  },
  {
   "cell_type": "code",
   "execution_count": 170,
   "id": "bd129520",
   "metadata": {},
   "outputs": [],
   "source": [
    "def partial_sigma(baryon, x_j):\n",
    "    # returns dsigma/dx_j\n",
    "    \n",
    "    numerator = 0 \n",
    "    denominator = sigma.mass**2 + sym.diff(U(sym.symbols('sigma')),sym.symbols('sigma'),sym.symbols('sigma'))\n",
    "    for i in range(len(baryon_list)):\n",
    "        if (baryon_list[i].kind == 'Nucleon'):\n",
    "            numerator = numerator + gm3_sym.g_sigma_N*beta(baryon_list[i])*partial_fermi(baryon, x_j)\n",
    "            denominator = denominator - gm3_sym.g_sigma_N*alpha(baryon_list[i])\n",
    "        elif (baryon_list[i].kind == 'Hyperon'):\n",
    "            numerator = numerator + gm3_sym.g_sigma_LA*beta(baryon_list[i])*partial_fermi(baryon, x_j)\n",
    "            denominator = denominator - gm3_sym.g_sigma_LA*alpha(baryon_list[i])\n",
    "    \n",
    "    return numerator/denominator"
   ]
  },
  {
   "cell_type": "markdown",
   "id": "ed97b794",
   "metadata": {},
   "source": [
    "### Arriving at expression for $\\partial \\mu'_i/\\partial x_j$\n",
    "With both $    \\frac{\\partial k_{F_i}}{\\partial x_j}$ and $\\frac{\\partial\\sigma}{\\partial x_j}$ in hand, we have \n",
    "$\\partial \\mu'_i/\\partial x_j$ via \n",
    "$$\n",
    "    \\frac{\\partial \\mu_i'}{\\partial x_j} = \\frac{\\partial }{\\partial x_j}\\sqrt{k_{F_i}^2 + {m_i^*}^2}\n",
    "    = \\frac{1}{2}\\frac{k_{F_i}\\dfrac{\\partial k_{F_i}}{\\partial x_j} - g_{\\sigma i}m_i^* \\dfrac{\\partial\\sigma}{\\partial x_j}}{\\sqrt{k_{F_i}^2 + {m_i^*}^2}}\n",
    "$$"
   ]
  },
  {
   "cell_type": "code",
   "execution_count": 183,
   "id": "3705413d",
   "metadata": {},
   "outputs": [],
   "source": [
    "def partial_mu_prime(baryon, x_j):\n",
    "    if (baryon.kind == 'Nucleon'):\n",
    "        return sym.S(1)/2/sym.sqrt(baryon.kf**2 + baryon.mass_eff**2)*(baryon.kf*partial_fermi(baryon, x_j)\\\n",
    "                - gm3_sym.g_sigma_N*baryon.mass_eff*partial_sigma(baryon, x_j))\n",
    "    elif (baryon.kind == 'Hyperon'):\n",
    "        return sym.S(1)/2/sym.sqrt(baryon.kf**2 + baryon.mass_eff**2)*(baryon.kf*partial_fermi(baryon, x_j)\\\n",
    "                - gm3_sym.g_sigma_LA*baryon.mass_eff*partial_sigma(baryon, x_j))"
   ]
  },
  {
   "cell_type": "markdown",
   "id": "c9b0927e",
   "metadata": {},
   "source": [
    "## Adding $\\partial \\mu'_i/\\partial x_j$ and $\\partial \\mu^R_i/\\partial x_j$ together to get $\\partial \\mu_i/\\partial x_j$\n",
    "From $$\n",
    "    \\frac{\\partial \\mu_i}{\\partial x_j} = \\frac{\\partial \\mu_i'}{\\partial x_j} + \\frac{\\partial \\mu_i^R}{\\partial x_j}\n",
    "$$\n"
   ]
  },
  {
   "cell_type": "code",
   "execution_count": 190,
   "id": "b5180ff4",
   "metadata": {},
   "outputs": [],
   "source": [
    "def chem_pot_part_deriv(baryon, x_j):\n",
    "    return partial_mu_prime(baryon, x_j) + partial_mu_R(baryon, x_j)"
   ]
  },
  {
   "cell_type": "code",
   "execution_count": 192,
   "id": "3115672e",
   "metadata": {},
   "outputs": [
    {
     "data": {
      "text/latex": [
       "$\\displaystyle \\frac{0.5 g_{\\rho N}^{2} n_{B}}{m_{\\rho}^{2}} + \\frac{- \\frac{g_{\\sigma N} m^{*}_{p} \\left(\\frac{\\sqrt[3]{3} g_{\\sigma N} k_{F p}^{2} m^{*}_{p} \\sqrt[3]{n_{B} \\pi^{2} x_{e}}}{3 E^{*}_{F p} \\pi^{2} x_{e}} + \\frac{\\sqrt[3]{3} g_{\\sigma N} k_{F n}^{2} m^{*}_{n} \\sqrt[3]{n_{B} \\pi^{2} x_{e}}}{3 E^{*}_{F n} \\pi^{2} x_{e}} + \\frac{\\sqrt[3]{3} g_{\\sigma \\Lambda} k_{F \\Lambda}^{2} m^{*}_{\\Lambda} \\sqrt[3]{n_{B} \\pi^{2} x_{e}}}{3 E^{*}_{F \\Lambda} \\pi^{2} x_{e}}\\right)}{- g_{\\sigma \\Lambda} \\left(\\frac{1.5 g_{\\sigma \\Lambda} \\left(m^{*}_{\\Lambda}\\right)^{2} \\log{\\left(\\frac{E^{*}_{F \\Lambda} + k_{F \\Lambda}}{m^{*}_{\\Lambda}} \\right)}}{\\pi^{2}} - \\frac{g_{\\sigma \\Lambda} \\left(0.5 E^{*}_{F \\Lambda} k_{F \\Lambda} + \\frac{k_{F \\Lambda} \\left(m^{*}_{\\Lambda}\\right)^{2}}{E^{*}_{F \\Lambda}}\\right)}{\\pi^{2}}\\right) - g_{\\sigma N} \\left(\\frac{1.5 g_{\\sigma N} \\left(m^{*}_{n}\\right)^{2} \\log{\\left(\\frac{E^{*}_{F n} + k_{F n}}{m^{*}_{n}} \\right)}}{\\pi^{2}} - \\frac{g_{\\sigma N} \\left(0.5 E^{*}_{F n} k_{F n} + \\frac{k_{F n} \\left(m^{*}_{n}\\right)^{2}}{E^{*}_{F n}}\\right)}{\\pi^{2}}\\right) - g_{\\sigma N} \\left(\\frac{1.5 g_{\\sigma N} \\left(m^{*}_{p}\\right)^{2} \\log{\\left(\\frac{E^{*}_{F p} + k_{F p}}{m^{*}_{p}} \\right)}}{\\pi^{2}} - \\frac{g_{\\sigma N} \\left(0.5 E^{*}_{F p} k_{F p} + \\frac{k_{F p} \\left(m^{*}_{p}\\right)^{2}}{E^{*}_{F p}}\\right)}{\\pi^{2}}\\right) + m_{\\sigma}^{2} + \\frac{d^{2}}{d \\sigma^{2}} U{\\left(\\sigma \\right)}} + \\frac{\\sqrt[3]{3} k_{F p} \\sqrt[3]{n_{B} \\pi^{2} x_{e}}}{3 x_{e}}}{2 \\sqrt{k_{F p}^{2} + \\left(m^{*}_{p}\\right)^{2}}}$"
      ],
      "text/plain": [
       "0.5*g_rho_N**2*n_B/m_rho**2 + (-g_sigma_N*m_p^**(3**(1/3)*g_sigma_N*k_F_p**2*m_p^**(n_B*pi**2*x_e)**(1/3)/(3*E^*_F_p*pi**2*x_e) + 3**(1/3)*g_sigma_N*k_F_n**2*m_n^**(n_B*pi**2*x_e)**(1/3)/(3*E^*_F_n*pi**2*x_e) + 3**(1/3)*g_sigma_Lambda*k_F_Lambda**2*m_Lambda^**(n_B*pi**2*x_e)**(1/3)/(3*E^*_F_Lambda*pi**2*x_e))/(-g_sigma_Lambda*(1.5*g_sigma_Lambda*m_Lambda^***2*log((E^*_F_Lambda + k_F_Lambda)/m_Lambda^*)/pi**2 - g_sigma_Lambda*(0.5*E^*_F_Lambda*k_F_Lambda + k_F_Lambda*m_Lambda^***2/E^*_F_Lambda)/pi**2) - g_sigma_N*(1.5*g_sigma_N*m_n^***2*log((E^*_F_n + k_F_n)/m_n^*)/pi**2 - g_sigma_N*(0.5*E^*_F_n*k_F_n + k_F_n*m_n^***2/E^*_F_n)/pi**2) - g_sigma_N*(1.5*g_sigma_N*m_p^***2*log((E^*_F_p + k_F_p)/m_p^*)/pi**2 - g_sigma_N*(0.5*E^*_F_p*k_F_p + k_F_p*m_p^***2/E^*_F_p)/pi**2) + m_sigma**2 + Derivative(U(sigma), (sigma, 2))) + 3**(1/3)*k_F_p*(n_B*pi**2*x_e)**(1/3)/(3*x_e))/(2*sqrt(k_F_p**2 + m_p^***2))"
      ]
     },
     "execution_count": 192,
     "metadata": {},
     "output_type": "execute_result"
    }
   ],
   "source": [
    "chem_pot_part_deriv(proton_sym, xe)"
   ]
  },
  {
   "cell_type": "markdown",
   "id": "e4625d24",
   "metadata": {},
   "source": [
    "## Numerical Calculations\n",
    "1. We have a symbolic expression for the chemical potential partial derivatives. In this part, we want to then get the numerical expressions. We substitute in for all variables the values of the fields, masses, coupling constants, fractions, etc. The plan here is to take the data from the data file and for each data row (ie, for a given nB and other fixed fractions and stuff) and store that in the numeric baryon class. Assuming that is done, we can then..."
   ]
  },
  {
   "cell_type": "code",
   "execution_count": 240,
   "id": "9a458c57",
   "metadata": {},
   "outputs": [],
   "source": [
    "def chem_pot_part_deriv_num(baryon, x_j):\n",
    "    symbolic_part_deriv = chem_pot_part_deriv(baryon, x_j)\n",
    "    \n",
    "    # replace coupling constants\n",
    "    symbolic_part_deriv = symbolic_part_deriv.subs([(gm3_sym.g_sigma_N, gm3.g_sigma_N),\\\n",
    "                                (gm3_sym.g_sigma_LA, gm3.g_sigma_LA), (gm3_sym.g_omega_N, gm3.g_omega_N),\\\n",
    "                                (gm3_sym.g_omega_LA, gm3.g_omega_LA), (gm3_sym.g_phi_N, gm3.g_phi_N),\\\n",
    "                                (gm3_sym.g_phi_LA, gm3.g_phi_LA), (gm3_sym.g_rho_N, gm3.g_rho_N),\\\n",
    "                                (gm3_sym.g_rho_LA, gm3.g_rho_LA)])\n",
    "\n",
    "    # replace meson field masses\n",
    "    symbolic_part_deriv = symbolic_part_deriv.subs([(omega.mass, omega_num.mass), (sigma.mass, sigma_num.mass),\\\n",
    "                                                   (phi.mass, phi_num.mass), (rho.mass, rho_num.mass)])\n",
    "    \n",
    "    # replace effective masses\n",
    "    for baryon in baryon_list:\n",
    "        if (baryon.kind == \"Nucleon\"):\n",
    "            symbolic_part_deriv = symbolic_part_deriv.subs(baryon.mass_eff, baryon.mass - gm3.g_omega_N*sigma.field)\n",
    "        elif (baryon.kind == \"Hyperon\"):\n",
    "            symbolic_part_deriv = symbolic_part_deriv.subs(baryon.mass_eff, baryon.mass - gm3.g_omega_LA*sigma.field)\n",
    "    \n",
    "    # replace fermi momentum\n",
    "    for i in range(len(baryon_list)):\n",
    "        symbolic_part_deriv = symbolic_part_deriv.subs(baryon_list[i].kf, baryon_num_list[i].kf)\n",
    "    \n",
    "    # replace effective energy\n",
    "    for i in range(len(baryon_list)):\n",
    "        symbolic_part_deriv = symbolic_part_deriv.subs(baryon_list[i].ef, baryon_num_list[i].ef)\n",
    "    \n",
    "    # replace baryon number density\n",
    "    for i in range(len(baryon_list)):\n",
    "        symbolic_part_deriv = symbolic_part_deriv.subs(baryon_list[i].num_density, baryon_num_list[i].num_density)\n",
    "    \n",
    "    # replace particle fractions \n",
    "    for i in range(len(baryon_list)):\n",
    "        symbolic_part_deriv = symbolic_part_deriv.subs(baryon_list[i].frac, baryon_num_list[i].frac)\n",
    "    for i in range(len(lepton_list)):\n",
    "        symbolic_part_deriv = symbolic_part_deriv.subs(lepton_list[i].frac, lepton_num_list[i].frac)\n",
    "    \n",
    "    # replace partial derivative of U self energy\n",
    "    symbolic_part_deriv = symbolic_part_deriv.subs(sym.diff(U(sym.symbols('sigma')),sym.symbols('sigma'),sym.symbols('sigma')),\\\n",
    "                                                  2*gm3.b*gm3.g_sigma_N**3*sigma.field + 3*gm3.c*gm3.g_sigma_N**4*sigma.field**2)\n",
    "    # evaluate \n",
    "    return symbolic_part_deriv"
   ]
  },
  {
   "cell_type": "code",
   "execution_count": 241,
   "id": "86dfcc70",
   "metadata": {},
   "outputs": [
    {
     "ename": "AttributeError",
     "evalue": "'baryon' object has no attribute 'ef'",
     "output_type": "error",
     "traceback": [
      "\u001b[0;31m---------------------------------------------------------------------------\u001b[0m",
      "\u001b[0;31mAttributeError\u001b[0m                            Traceback (most recent call last)",
      "\u001b[0;32m<ipython-input-241-d101418b8d83>\u001b[0m in \u001b[0;36m<module>\u001b[0;34m\u001b[0m\n\u001b[0;32m----> 1\u001b[0;31m \u001b[0mchem_pot_part_deriv_num\u001b[0m\u001b[0;34m(\u001b[0m\u001b[0mproton_sym\u001b[0m\u001b[0;34m,\u001b[0m \u001b[0mnb\u001b[0m\u001b[0;34m)\u001b[0m\u001b[0;34m\u001b[0m\u001b[0;34m\u001b[0m\u001b[0m\n\u001b[0m",
      "\u001b[0;32m<ipython-input-240-01e596218da9>\u001b[0m in \u001b[0;36mchem_pot_part_deriv_num\u001b[0;34m(baryon, x_j)\u001b[0m\n\u001b[1;32m     26\u001b[0m     \u001b[0;31m# replace effective energy\u001b[0m\u001b[0;34m\u001b[0m\u001b[0;34m\u001b[0m\u001b[0;34m\u001b[0m\u001b[0m\n\u001b[1;32m     27\u001b[0m     \u001b[0;32mfor\u001b[0m \u001b[0mi\u001b[0m \u001b[0;32min\u001b[0m \u001b[0mrange\u001b[0m\u001b[0;34m(\u001b[0m\u001b[0mlen\u001b[0m\u001b[0;34m(\u001b[0m\u001b[0mbaryon_list\u001b[0m\u001b[0;34m)\u001b[0m\u001b[0;34m)\u001b[0m\u001b[0;34m:\u001b[0m\u001b[0;34m\u001b[0m\u001b[0;34m\u001b[0m\u001b[0m\n\u001b[0;32m---> 28\u001b[0;31m         \u001b[0msymbolic_part_deriv\u001b[0m \u001b[0;34m=\u001b[0m \u001b[0msymbolic_part_deriv\u001b[0m\u001b[0;34m.\u001b[0m\u001b[0msubs\u001b[0m\u001b[0;34m(\u001b[0m\u001b[0mbaryon_list\u001b[0m\u001b[0;34m[\u001b[0m\u001b[0mi\u001b[0m\u001b[0;34m]\u001b[0m\u001b[0;34m.\u001b[0m\u001b[0mef\u001b[0m\u001b[0;34m,\u001b[0m \u001b[0mbaryon_num_list\u001b[0m\u001b[0;34m[\u001b[0m\u001b[0mi\u001b[0m\u001b[0;34m]\u001b[0m\u001b[0;34m.\u001b[0m\u001b[0mef\u001b[0m\u001b[0;34m)\u001b[0m\u001b[0;34m\u001b[0m\u001b[0;34m\u001b[0m\u001b[0m\n\u001b[0m\u001b[1;32m     29\u001b[0m \u001b[0;34m\u001b[0m\u001b[0m\n\u001b[1;32m     30\u001b[0m     \u001b[0;31m# replace baryon number density\u001b[0m\u001b[0;34m\u001b[0m\u001b[0;34m\u001b[0m\u001b[0;34m\u001b[0m\u001b[0m\n",
      "\u001b[0;31mAttributeError\u001b[0m: 'baryon' object has no attribute 'ef'"
     ]
    }
   ],
   "source": [
    "chem_pot_part_deriv_num(proton_sym, nb)"
   ]
  },
  {
   "cell_type": "markdown",
   "id": "658b5060",
   "metadata": {},
   "source": [
    "## Loading in Data\n",
    "1. We read in the data."
   ]
  },
  {
   "cell_type": "markdown",
   "id": "6004c242",
   "metadata": {},
   "source": [
    "### Tilde"
   ]
  },
  {
   "cell_type": "code",
   "execution_count": 215,
   "id": "995e43f3",
   "metadata": {},
   "outputs": [],
   "source": [
    "mu_xe = neutron_sym.chem_pot - proton_sym.chem_pot - electron_sym.chem_pot\n",
    "mu_xl = neutron_sym.chem_pot - lambda_sym.chem_pot"
   ]
  },
  {
   "cell_type": "code",
   "execution_count": 212,
   "id": "5e659674",
   "metadata": {},
   "outputs": [
    {
     "data": {
      "text/latex": [
       "$\\displaystyle \\mu_{p}$"
      ],
      "text/plain": [
       "mu_p"
      ]
     },
     "execution_count": 212,
     "metadata": {},
     "output_type": "execute_result"
    }
   ],
   "source": [
    "neutron_sym.chem_pot"
   ]
  },
  {
   "cell_type": "markdown",
   "id": "4d201a80",
   "metadata": {},
   "source": [
    "## Future Considerations\n",
    "1. Take what we've done here and write these functions as library functions... Would be amazing if could just call a function that immediately calculates the partial derivatives."
   ]
  },
  {
   "cell_type": "code",
   "execution_count": null,
   "id": "dcf1073d",
   "metadata": {},
   "outputs": [],
   "source": []
  }
 ],
 "metadata": {
  "kernelspec": {
   "display_name": "Python 3",
   "language": "python",
   "name": "python3"
  },
  "language_info": {
   "codemirror_mode": {
    "name": "ipython",
    "version": 3
   },
   "file_extension": ".py",
   "mimetype": "text/x-python",
   "name": "python",
   "nbconvert_exporter": "python",
   "pygments_lexer": "ipython3",
   "version": "3.8.8"
  }
 },
 "nbformat": 4,
 "nbformat_minor": 5
}
